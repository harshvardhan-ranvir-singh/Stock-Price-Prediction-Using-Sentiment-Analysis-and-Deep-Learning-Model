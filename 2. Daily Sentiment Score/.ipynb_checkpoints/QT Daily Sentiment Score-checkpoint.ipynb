{
 "cells": [
  {
   "cell_type": "markdown",
   "metadata": {},
   "source": [
    "# Notebook Instructions\n",
    "<i>You can run the notebook document sequentially (one cell at a time) by pressing <b> shift + enter</b>. While a cell is running, a [*] will display on the left. When it has been run, a number will display indicating the order in which it was run in the notebook [8].</i>\n",
    "\n",
    "<i>Enter edit mode by pressing <b>`Enter`</b> or using the mouse to click on a cell's editor area. Edit mode is indicated by a green cell border and a prompt showing in the editor area.</i> <BR>\n",
    "\n",
    "This course is based on specific versions of Python packages. You can find the details of the same in <a href='https://quantra.quantinsti.com/quantra-notebook' target=\"_blank\" >this manual</a>. The manual also explains how to use these codes in other versions of Python packages. <BR>"
   ]
  },
  {
   "cell_type": "markdown",
   "metadata": {},
   "source": [
    "In this notebook, you will learn to calculate the daily sentiment score of the news headlines. The steps involved are:\n",
    "\n",
    "1. Read news headline data for 'AAPL'\n",
    "2. Calculate trading time for each news headline\n",
    "3. Calculate daily sentiment score\n",
    "4. Store daily sentiment score in CSV file "
   ]
  },
  {
   "cell_type": "markdown",
   "metadata": {},
   "source": [
    "## Read news headline data for 'AAPL'\n",
    "We will first read the AAPL news headline data from Jan 2014 to May 2016. You can find this file in the downloadable section of the course."
   ]
  },
  {
   "cell_type": "code",
   "execution_count": 9,
   "metadata": {},
   "outputs": [
    {
     "data": {
      "text/html": [
       "<div>\n",
       "<style scoped>\n",
       "    .dataframe tbody tr th:only-of-type {\n",
       "        vertical-align: middle;\n",
       "    }\n",
       "\n",
       "    .dataframe tbody tr th {\n",
       "        vertical-align: top;\n",
       "    }\n",
       "\n",
       "    .dataframe thead th {\n",
       "        text-align: right;\n",
       "    }\n",
       "</style>\n",
       "<table border=\"1\" class=\"dataframe\">\n",
       "  <thead>\n",
       "    <tr style=\"text-align: right;\">\n",
       "      <th></th>\n",
       "      <th>Unnamed: 0</th>\n",
       "      <th>Unnamed: 0.1</th>\n",
       "      <th>news_headline</th>\n",
       "      <th>time_stamp</th>\n",
       "      <th>URL</th>\n",
       "      <th>source_id</th>\n",
       "      <th>sentiment_class</th>\n",
       "      <th>sentiment_scores</th>\n",
       "    </tr>\n",
       "  </thead>\n",
       "  <tbody>\n",
       "    <tr>\n",
       "      <th>15311</th>\n",
       "      <td>1999878</td>\n",
       "      <td>1309859</td>\n",
       "      <td>nirmala sitharaman may help pave way for apple...</td>\n",
       "      <td>2016-05-29 18:45:01-07:00</td>\n",
       "      <td>http://realtime.rediff.com/news/business/Nirma...</td>\n",
       "      <td>1502</td>\n",
       "      <td>1</td>\n",
       "      <td>0.4019</td>\n",
       "    </tr>\n",
       "    <tr>\n",
       "      <th>15312</th>\n",
       "      <td>1999906</td>\n",
       "      <td>1310042</td>\n",
       "      <td>discussing apple's request for local sourcing ...</td>\n",
       "      <td>2016-05-29 19:15:02-07:00</td>\n",
       "      <td>/article/companies/discussing-apple-s-request-...</td>\n",
       "      <td>1510</td>\n",
       "      <td>0</td>\n",
       "      <td>0.0000</td>\n",
       "    </tr>\n",
       "  </tbody>\n",
       "</table>\n",
       "</div>"
      ],
      "text/plain": [
       "       Unnamed: 0  Unnamed: 0.1  \\\n",
       "15311     1999878       1309859   \n",
       "15312     1999906       1310042   \n",
       "\n",
       "                                           news_headline  \\\n",
       "15311  nirmala sitharaman may help pave way for apple...   \n",
       "15312  discussing apple's request for local sourcing ...   \n",
       "\n",
       "                      time_stamp  \\\n",
       "15311  2016-05-29 18:45:01-07:00   \n",
       "15312  2016-05-29 19:15:02-07:00   \n",
       "\n",
       "                                                     URL  source_id  \\\n",
       "15311  http://realtime.rediff.com/news/business/Nirma...       1502   \n",
       "15312  /article/companies/discussing-apple-s-request-...       1510   \n",
       "\n",
       "       sentiment_class  sentiment_scores  \n",
       "15311                1            0.4019  \n",
       "15312                0            0.0000  "
      ]
     },
     "execution_count": 9,
     "metadata": {},
     "output_type": "execute_result"
    }
   ],
   "source": [
    "# Import pandas\n",
    "import pandas as pd\n",
    "\n",
    "# Read the AAPL news headlines data\n",
    "apple_headlines_data = pd.read_csv(\n",
    "    'news_headline_sentiments_aapl.csv', parse_dates=True)\n",
    "\n",
    "apple_headlines_data.tail(2)"
   ]
  },
  {
   "cell_type": "markdown",
   "metadata": {},
   "source": [
    "### Get the required column"
   ]
  },
  {
   "cell_type": "code",
   "execution_count": 10,
   "metadata": {},
   "outputs": [
    {
     "data": {
      "text/html": [
       "<div>\n",
       "<style scoped>\n",
       "    .dataframe tbody tr th:only-of-type {\n",
       "        vertical-align: middle;\n",
       "    }\n",
       "\n",
       "    .dataframe tbody tr th {\n",
       "        vertical-align: top;\n",
       "    }\n",
       "\n",
       "    .dataframe thead th {\n",
       "        text-align: right;\n",
       "    }\n",
       "</style>\n",
       "<table border=\"1\" class=\"dataframe\">\n",
       "  <thead>\n",
       "    <tr style=\"text-align: right;\">\n",
       "      <th></th>\n",
       "      <th>time_stamp</th>\n",
       "      <th>news_headline</th>\n",
       "      <th>sentiment_class</th>\n",
       "      <th>sentiment_scores</th>\n",
       "    </tr>\n",
       "  </thead>\n",
       "  <tbody>\n",
       "    <tr>\n",
       "      <th>0</th>\n",
       "      <td>2014-01-27 18:17:47+00:00</td>\n",
       "      <td>apple will refund at least $32.5m in app case</td>\n",
       "      <td>0</td>\n",
       "      <td>0.0</td>\n",
       "    </tr>\n",
       "    <tr>\n",
       "      <th>1</th>\n",
       "      <td>2014-01-27 18:17:47+00:00</td>\n",
       "      <td>icahn raises apple stake, now owns $3b in stock</td>\n",
       "      <td>0</td>\n",
       "      <td>0.0</td>\n",
       "    </tr>\n",
       "    <tr>\n",
       "      <th>2</th>\n",
       "      <td>2014-01-27 18:17:47+00:00</td>\n",
       "      <td>apple: people spent $10b in its app store in 2013</td>\n",
       "      <td>0</td>\n",
       "      <td>0.0</td>\n",
       "    </tr>\n",
       "    <tr>\n",
       "      <th>3</th>\n",
       "      <td>2014-01-27 18:17:47+00:00</td>\n",
       "      <td>apple s mac still influencing computing, 30 ye...</td>\n",
       "      <td>0</td>\n",
       "      <td>0.0</td>\n",
       "    </tr>\n",
       "    <tr>\n",
       "      <th>4</th>\n",
       "      <td>2014-01-27 18:17:47+00:00</td>\n",
       "      <td>new apple tv set-top box expected in first hal...</td>\n",
       "      <td>0</td>\n",
       "      <td>0.0</td>\n",
       "    </tr>\n",
       "  </tbody>\n",
       "</table>\n",
       "</div>"
      ],
      "text/plain": [
       "                 time_stamp  \\\n",
       "0 2014-01-27 18:17:47+00:00   \n",
       "1 2014-01-27 18:17:47+00:00   \n",
       "2 2014-01-27 18:17:47+00:00   \n",
       "3 2014-01-27 18:17:47+00:00   \n",
       "4 2014-01-27 18:17:47+00:00   \n",
       "\n",
       "                                       news_headline  sentiment_class  \\\n",
       "0      apple will refund at least $32.5m in app case                0   \n",
       "1    icahn raises apple stake, now owns $3b in stock                0   \n",
       "2  apple: people spent $10b in its app store in 2013                0   \n",
       "3  apple s mac still influencing computing, 30 ye...                0   \n",
       "4  new apple tv set-top box expected in first hal...                0   \n",
       "\n",
       "   sentiment_scores  \n",
       "0               0.0  \n",
       "1               0.0  \n",
       "2               0.0  \n",
       "3               0.0  \n",
       "4               0.0  "
      ]
     },
     "execution_count": 10,
     "metadata": {},
     "output_type": "execute_result"
    }
   ],
   "source": [
    "# Get the required columns used in the strategy\n",
    "data = apple_headlines_data.loc[:, [\n",
    "    'time_stamp', 'news_headline', 'sentiment_class', 'sentiment_scores']]\n",
    "\n",
    "# Convert time column in date-time format\n",
    "data['time_stamp'] = pd.to_datetime(data['time_stamp'], utc=True)\n",
    "\n",
    "\n",
    "# Sort the dataframe by datetime\n",
    "data.sort_values(by='time_stamp', inplace=True)\n",
    "data.head()"
   ]
  },
  {
   "cell_type": "markdown",
   "metadata": {},
   "source": [
    "## Calculate trading time for each news headline"
   ]
  },
  {
   "cell_type": "markdown",
   "metadata": {},
   "source": [
    "We will fetch all the headlines that were made between the previous day's close and next day's open.\n",
    "\n",
    "To do this, we will use a function called get_trade_open which will give you the market open time when a particular headline should be used. In the function, we have followed following steps.\n",
    "1. Calculate the current day opening time\n",
    "2. Calculate the current day closing time\n",
    "3. Calculate the previous day closing time\n",
    "4. Calculate next day opening time\n",
    "4. If the headline was made after the previous day's market close and before today's market open, then this column will contain the today's market open date and time.\n",
    "5. Similarly, if the headline was made after the current day's market close and before next day's market open, then this column will contain the next day's market open date and time.\n",
    "\n",
    "Note: News headline during the market hours will be ignored and will not be considered in sentiment calculation.\n",
    "\n",
    "\n",
    "We will use the pandas function BDay to determine the next and previous business/trading day's dates."
   ]
  },
  {
   "cell_type": "code",
   "execution_count": 11,
   "metadata": {},
   "outputs": [
    {
     "data": {
      "text/plain": [
       "Timestamp('2014-01-27 18:17:47+0000', tz='UTC')"
      ]
     },
     "execution_count": 11,
     "metadata": {},
     "output_type": "execute_result"
    }
   ],
   "source": [
    "# Import datetime\n",
    "from datetime import datetime, timedelta\n",
    "\n",
    "# Import BDay to determine business day's dates\n",
    "from pandas.tseries.offsets import BDay\n",
    "\n",
    "# Fetch the first date of the headline\n",
    "date = data.time_stamp.iloc[0]\n",
    "date"
   ]
  },
  {
   "cell_type": "code",
   "execution_count": 12,
   "metadata": {},
   "outputs": [],
   "source": [
    "def get_trade_open(date):\n",
    "    \n",
    "    # If the headline was made on a weekend then subtract BDay(0) to fetch the next business day's market open time\n",
    "    curr_date_open = pd.to_datetime(date).floor('d').replace(hour=9,minute=30) - BDay(0)\n",
    "    \n",
    "    # If the tweet was made on a weekend then subtract  BDay(0) to fetch the next business day's market close time\n",
    "    curr_date_close = pd.to_datetime(date).floor('d').replace(hour=16,minute=0) - BDay(0)\n",
    "    \n",
    "    # Calculate the previous business day's market close time for the headline \n",
    "    prev_date_close = (curr_date_open - BDay()).replace(hour=16,minute=0)\n",
    "    \n",
    "    # Calculate the next business day's market open time for the headline \n",
    "    next_date_open = (curr_date_close + BDay()).replace(hour=9,minute=30)\n",
    "    \n",
    "    # If the tweet was made after the close of the previous business day and\n",
    "    # on the next day before the market opens then the function assigns the curr_date_open as the opening time\n",
    "    # when this tweet should be used to trade\n",
    "    if ((pd.to_datetime(date)>=prev_date_close) & (pd.to_datetime(date)<curr_date_open)):\n",
    "        return curr_date_open\n",
    "    \n",
    "    # If the tweet was made after the close of the current business day and\n",
    "    # on the next day open then the function assigns the next_date_open as the opening time\n",
    "    # when this tweet should be used to trade\n",
    "    elif ((pd.to_datetime(date)>=curr_date_close) & (pd.to_datetime(date)<next_date_open)):\n",
    "        return next_date_open\n",
    "    \n",
    "    else:\n",
    "        return None"
   ]
  },
  {
   "cell_type": "code",
   "execution_count": 13,
   "metadata": {},
   "outputs": [],
   "source": [
    "# Apply the above function to get the trading time for each news headline\n",
    "data[\"trading_time\"] = data[\"time_stamp\"].apply(get_trade_open)"
   ]
  },
  {
   "cell_type": "code",
   "execution_count": 14,
   "metadata": {},
   "outputs": [
    {
     "data": {
      "text/html": [
       "<div>\n",
       "<style scoped>\n",
       "    .dataframe tbody tr th:only-of-type {\n",
       "        vertical-align: middle;\n",
       "    }\n",
       "\n",
       "    .dataframe tbody tr th {\n",
       "        vertical-align: top;\n",
       "    }\n",
       "\n",
       "    .dataframe thead th {\n",
       "        text-align: right;\n",
       "    }\n",
       "</style>\n",
       "<table border=\"1\" class=\"dataframe\">\n",
       "  <thead>\n",
       "    <tr style=\"text-align: right;\">\n",
       "      <th></th>\n",
       "      <th>time_stamp</th>\n",
       "      <th>news_headline</th>\n",
       "      <th>sentiment_class</th>\n",
       "      <th>sentiment_scores</th>\n",
       "      <th>trading_time</th>\n",
       "    </tr>\n",
       "  </thead>\n",
       "  <tbody>\n",
       "    <tr>\n",
       "      <th>15302</th>\n",
       "      <td>2016-05-30 01:15:01+00:00</td>\n",
       "      <td>commerce ministry favours local sourcing waive...</td>\n",
       "      <td>1</td>\n",
       "      <td>0.4215</td>\n",
       "      <td>2016-05-30 09:30:00+00:00</td>\n",
       "    </tr>\n",
       "    <tr>\n",
       "      <th>15310</th>\n",
       "      <td>2016-05-30 01:45:01+00:00</td>\n",
       "      <td>commerce ministry turns down apple?s proposal ...</td>\n",
       "      <td>-1</td>\n",
       "      <td>-0.1880</td>\n",
       "      <td>2016-05-30 09:30:00+00:00</td>\n",
       "    </tr>\n",
       "    <tr>\n",
       "      <th>15311</th>\n",
       "      <td>2016-05-30 01:45:01+00:00</td>\n",
       "      <td>nirmala sitharaman may help pave way for apple...</td>\n",
       "      <td>1</td>\n",
       "      <td>0.4019</td>\n",
       "      <td>2016-05-30 09:30:00+00:00</td>\n",
       "    </tr>\n",
       "    <tr>\n",
       "      <th>15309</th>\n",
       "      <td>2016-05-30 01:45:01+00:00</td>\n",
       "      <td>apple?s refurbished iphone plan: govt not in f...</td>\n",
       "      <td>-1</td>\n",
       "      <td>-0.4952</td>\n",
       "      <td>2016-05-30 09:30:00+00:00</td>\n",
       "    </tr>\n",
       "    <tr>\n",
       "      <th>15312</th>\n",
       "      <td>2016-05-30 02:15:02+00:00</td>\n",
       "      <td>discussing apple's request for local sourcing ...</td>\n",
       "      <td>0</td>\n",
       "      <td>0.0000</td>\n",
       "      <td>2016-05-30 09:30:00+00:00</td>\n",
       "    </tr>\n",
       "  </tbody>\n",
       "</table>\n",
       "</div>"
      ],
      "text/plain": [
       "                     time_stamp  \\\n",
       "15302 2016-05-30 01:15:01+00:00   \n",
       "15310 2016-05-30 01:45:01+00:00   \n",
       "15311 2016-05-30 01:45:01+00:00   \n",
       "15309 2016-05-30 01:45:01+00:00   \n",
       "15312 2016-05-30 02:15:02+00:00   \n",
       "\n",
       "                                           news_headline  sentiment_class  \\\n",
       "15302  commerce ministry favours local sourcing waive...                1   \n",
       "15310  commerce ministry turns down apple?s proposal ...               -1   \n",
       "15311  nirmala sitharaman may help pave way for apple...                1   \n",
       "15309  apple?s refurbished iphone plan: govt not in f...               -1   \n",
       "15312  discussing apple's request for local sourcing ...                0   \n",
       "\n",
       "       sentiment_scores              trading_time  \n",
       "15302            0.4215 2016-05-30 09:30:00+00:00  \n",
       "15310           -0.1880 2016-05-30 09:30:00+00:00  \n",
       "15311            0.4019 2016-05-30 09:30:00+00:00  \n",
       "15309           -0.4952 2016-05-30 09:30:00+00:00  \n",
       "15312            0.0000 2016-05-30 09:30:00+00:00  "
      ]
     },
     "execution_count": 14,
     "metadata": {},
     "output_type": "execute_result"
    }
   ],
   "source": [
    "data.tail()"
   ]
  },
  {
   "cell_type": "markdown",
   "metadata": {},
   "source": [
    "## Calculate daily sentiment score\n",
    "For all the news headlines with same trading time, we will compute the mean of its sentiment class. This will be the daily sentiment score. This is one of the approaches we have followed. \n",
    "\n",
    "\n",
    "Note: You can also calculate the sentiment score by further refining it. For example, you can ignore those news headline whose sentiment score is weak or below the certain limit. "
   ]
  },
  {
   "cell_type": "code",
   "execution_count": 15,
   "metadata": {},
   "outputs": [],
   "source": [
    "apple_daily_sentiment = data.groupby(\n",
    "    'trading_time').sentiment_class.agg('mean').to_frame('score')"
   ]
  },
  {
   "cell_type": "code",
   "execution_count": 31,
   "metadata": {},
   "outputs": [
    {
     "data": {
      "text/html": [
       "<div>\n",
       "<style scoped>\n",
       "    .dataframe tbody tr th:only-of-type {\n",
       "        vertical-align: middle;\n",
       "    }\n",
       "\n",
       "    .dataframe tbody tr th {\n",
       "        vertical-align: top;\n",
       "    }\n",
       "\n",
       "    .dataframe thead th {\n",
       "        text-align: right;\n",
       "    }\n",
       "</style>\n",
       "<table border=\"1\" class=\"dataframe\">\n",
       "  <thead>\n",
       "    <tr style=\"text-align: right;\">\n",
       "      <th></th>\n",
       "      <th>score</th>\n",
       "    </tr>\n",
       "    <tr>\n",
       "      <th>trading_time</th>\n",
       "      <th></th>\n",
       "    </tr>\n",
       "  </thead>\n",
       "  <tbody>\n",
       "    <tr>\n",
       "      <th>2014-01-28 09:30:00+00:00</th>\n",
       "      <td>0.034483</td>\n",
       "    </tr>\n",
       "    <tr>\n",
       "      <th>2014-01-29 09:30:00+00:00</th>\n",
       "      <td>0.238095</td>\n",
       "    </tr>\n",
       "    <tr>\n",
       "      <th>2014-01-30 09:30:00+00:00</th>\n",
       "      <td>0.571429</td>\n",
       "    </tr>\n",
       "    <tr>\n",
       "      <th>2014-02-03 09:30:00+00:00</th>\n",
       "      <td>-0.200000</td>\n",
       "    </tr>\n",
       "    <tr>\n",
       "      <th>2014-02-04 09:30:00+00:00</th>\n",
       "      <td>-0.500000</td>\n",
       "    </tr>\n",
       "  </tbody>\n",
       "</table>\n",
       "</div>"
      ],
      "text/plain": [
       "                              score\n",
       "trading_time                       \n",
       "2014-01-28 09:30:00+00:00  0.034483\n",
       "2014-01-29 09:30:00+00:00  0.238095\n",
       "2014-01-30 09:30:00+00:00  0.571429\n",
       "2014-02-03 09:30:00+00:00 -0.200000\n",
       "2014-02-04 09:30:00+00:00 -0.500000"
      ]
     },
     "execution_count": 31,
     "metadata": {},
     "output_type": "execute_result"
    }
   ],
   "source": [
    "apple_daily_sentiment.head()"
   ]
  },
  {
   "cell_type": "code",
   "execution_count": 29,
   "metadata": {},
   "outputs": [
    {
     "data": {
      "image/png": "[encoded data removed]",
      "text/plain": [
       "<Figure size 720x504 with 1 Axes>"
      ]
     },
     "metadata": {
      "needs_background": "light"
     },
     "output_type": "display_data"
    }
   ],
   "source": [
    "import matplotlib.pyplot as plt\n",
    "plt.figure(figsize=(10, 7))\n",
    "plt.plot(apple_daily_sentiment)\n",
    "plt.title('Daily Sentiment Score', fontsize=16)\n",
    "plt.xlabel('Date', fontsize=14)\n",
    "plt.ylabel('Sentiment Score', fontsize=14)\n",
    "plt.show()"
   ]
  },
  {
   "cell_type": "code",
   "execution_count": 8,
   "metadata": {},
   "outputs": [
    {
     "data": {
      "text/html": [
       "<div>\n",
       "<style scoped>\n",
       "    .dataframe tbody tr th:only-of-type {\n",
       "        vertical-align: middle;\n",
       "    }\n",
       "\n",
       "    .dataframe tbody tr th {\n",
       "        vertical-align: top;\n",
       "    }\n",
       "\n",
       "    .dataframe thead th {\n",
       "        text-align: right;\n",
       "    }\n",
       "</style>\n",
       "<table border=\"1\" class=\"dataframe\">\n",
       "  <thead>\n",
       "    <tr style=\"text-align: right;\">\n",
       "      <th></th>\n",
       "      <th>trading_time</th>\n",
       "      <th>score</th>\n",
       "    </tr>\n",
       "    <tr>\n",
       "      <th>Date</th>\n",
       "      <th></th>\n",
       "      <th></th>\n",
       "    </tr>\n",
       "  </thead>\n",
       "  <tbody>\n",
       "    <tr>\n",
       "      <th>2014-01-28</th>\n",
       "      <td>2014-01-28 09:30:00+00:00</td>\n",
       "      <td>0.034483</td>\n",
       "    </tr>\n",
       "    <tr>\n",
       "      <th>2014-01-29</th>\n",
       "      <td>2014-01-29 09:30:00+00:00</td>\n",
       "      <td>0.238095</td>\n",
       "    </tr>\n",
       "    <tr>\n",
       "      <th>2014-01-30</th>\n",
       "      <td>2014-01-30 09:30:00+00:00</td>\n",
       "      <td>0.571429</td>\n",
       "    </tr>\n",
       "    <tr>\n",
       "      <th>2014-02-03</th>\n",
       "      <td>2014-02-03 09:30:00+00:00</td>\n",
       "      <td>-0.200000</td>\n",
       "    </tr>\n",
       "    <tr>\n",
       "      <th>2014-02-04</th>\n",
       "      <td>2014-02-04 09:30:00+00:00</td>\n",
       "      <td>-0.500000</td>\n",
       "    </tr>\n",
       "  </tbody>\n",
       "</table>\n",
       "</div>"
      ],
      "text/plain": [
       "                        trading_time     score\n",
       "Date                                          \n",
       "2014-01-28 2014-01-28 09:30:00+00:00  0.034483\n",
       "2014-01-29 2014-01-29 09:30:00+00:00  0.238095\n",
       "2014-01-30 2014-01-30 09:30:00+00:00  0.571429\n",
       "2014-02-03 2014-02-03 09:30:00+00:00 -0.200000\n",
       "2014-02-04 2014-02-04 09:30:00+00:00 -0.500000"
      ]
     },
     "execution_count": 8,
     "metadata": {},
     "output_type": "execute_result"
    }
   ],
   "source": [
    "# Reset the index\n",
    "apple_daily_sentiment.reset_index(inplace=True)\n",
    "\n",
    "# Create a column and store only dates of the trading_time for the better visualisation of the dates\n",
    "apple_daily_sentiment['Date'] = pd.to_datetime(\n",
    "    apple_daily_sentiment['trading_time']).dt.floor('d')\n",
    "\n",
    "# Remove the time zone information from the time column\n",
    "apple_daily_sentiment['Date'] = apple_daily_sentiment['Date'].apply(\n",
    "    lambda d: d.replace(tzinfo=None))\n",
    "\n",
    "# Set the index\n",
    "apple_daily_sentiment.set_index(\"Date\", inplace=True)\n",
    "apple_daily_sentiment.head()"
   ]
  },
  {
   "cell_type": "markdown",
   "metadata": {},
   "source": [
    "## Store daily sentiment score in CSV file "
   ]
  },
  {
   "cell_type": "code",
   "execution_count": 37,
   "metadata": {},
   "outputs": [],
   "source": [
    "apple_daily_sentiment.to_csv('apple_daily_sentiment.csv')"
   ]
  },
  {
   "cell_type": "markdown",
   "metadata": {},
   "source": [
    "## Conclusion"
   ]
  },
  {
   "cell_type": "markdown",
   "metadata": {},
   "source": [
    "In this notebook, you have learned to calculate the daily sentiment score for all news headlines traded on a particular day. In the next notebook, using this sentiment score, we will create a trading strategy on the stock prices of AAPL. <br><br> "
   ]
  }
 ],
 "metadata": {
  "kernelspec": {
   "display_name": "Python 3",
   "language": "python",
   "name": "python3"
  },
  "language_info": {
   "codemirror_mode": {
    "name": "ipython",
    "version": 3
   },
   "file_extension": ".py",
   "mimetype": "text/x-python",
   "name": "python",
   "nbconvert_exporter": "python",
   "pygments_lexer": "ipython3",
   "version": "3.7.4"
  }
 },
 "nbformat": 4,
 "nbformat_minor": 2
}
