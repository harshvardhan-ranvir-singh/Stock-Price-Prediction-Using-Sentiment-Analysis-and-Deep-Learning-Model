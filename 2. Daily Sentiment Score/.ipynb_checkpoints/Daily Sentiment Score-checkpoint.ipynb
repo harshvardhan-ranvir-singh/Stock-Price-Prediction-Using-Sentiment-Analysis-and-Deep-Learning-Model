{
 "cells": [
  {
   "cell_type": "markdown",
   "metadata": {},
   "source": [
    "## 2.1 Reading the prepared apple news headline data "
   ]
  },
  {
   "cell_type": "code",
   "execution_count": 1,
   "metadata": {},
   "outputs": [
    {
     "data": {
      "text/html": [
       "<div>\n",
       "<style scoped>\n",
       "    .dataframe tbody tr th:only-of-type {\n",
       "        vertical-align: middle;\n",
       "    }\n",
       "\n",
       "    .dataframe tbody tr th {\n",
       "        vertical-align: top;\n",
       "    }\n",
       "\n",
       "    .dataframe thead th {\n",
       "        text-align: right;\n",
       "    }\n",
       "</style>\n",
       "<table border=\"1\" class=\"dataframe\">\n",
       "  <thead>\n",
       "    <tr style=\"text-align: right;\">\n",
       "      <th></th>\n",
       "      <th>news_headline</th>\n",
       "      <th>time_stamp</th>\n",
       "      <th>URL</th>\n",
       "      <th>sentiment_score</th>\n",
       "      <th>sentiment_class</th>\n",
       "    </tr>\n",
       "  </thead>\n",
       "  <tbody>\n",
       "    <tr>\n",
       "      <th>0</th>\n",
       "      <td>carl icahn ups apple stake to $3 billion</td>\n",
       "      <td>2014-01-27 23:47:47</td>\n",
       "      <td>http://money.cnn.com/2014/01/22/technology/app...</td>\n",
       "      <td>0.0000</td>\n",
       "      <td>0</td>\n",
       "    </tr>\n",
       "    <tr>\n",
       "      <th>1</th>\n",
       "      <td>the apple mac at 30: see the evolution of a…</td>\n",
       "      <td>2014-01-27 23:47:47</td>\n",
       "      <td>http://feeds.wired.com/c/35185/f/661457/s/3656...</td>\n",
       "      <td>0.0000</td>\n",
       "      <td>0</td>\n",
       "    </tr>\n",
       "    <tr>\n",
       "      <th>2</th>\n",
       "      <td>apple engineers who brought mac to life get  r...</td>\n",
       "      <td>2014-01-27 23:47:47</td>\n",
       "      <td>http://gadgets.ndtv.com/shortlink.aspx?article...</td>\n",
       "      <td>0.0000</td>\n",
       "      <td>0</td>\n",
       "    </tr>\n",
       "    <tr>\n",
       "      <th>3</th>\n",
       "      <td>apple takes a fresh bite into china s market</td>\n",
       "      <td>2014-01-27 23:47:47</td>\n",
       "      <td>/id/101340364</td>\n",
       "      <td>0.3182</td>\n",
       "      <td>1</td>\n",
       "    </tr>\n",
       "    <tr>\n",
       "      <th>4</th>\n",
       "      <td>icahn takes another $500 million bite out of a...</td>\n",
       "      <td>2014-01-27 23:47:47</td>\n",
       "      <td>/business/sns-rt-us-apple-icahn-20140122,0,515...</td>\n",
       "      <td>0.0000</td>\n",
       "      <td>0</td>\n",
       "    </tr>\n",
       "  </tbody>\n",
       "</table>\n",
       "</div>"
      ],
      "text/plain": [
       "                                       news_headline           time_stamp  \\\n",
       "0           carl icahn ups apple stake to $3 billion  2014-01-27 23:47:47   \n",
       "1       the apple mac at 30: see the evolution of a…  2014-01-27 23:47:47   \n",
       "2  apple engineers who brought mac to life get  r...  2014-01-27 23:47:47   \n",
       "3       apple takes a fresh bite into china s market  2014-01-27 23:47:47   \n",
       "4  icahn takes another $500 million bite out of a...  2014-01-27 23:47:47   \n",
       "\n",
       "                                                 URL  sentiment_score  \\\n",
       "0  http://money.cnn.com/2014/01/22/technology/app...           0.0000   \n",
       "1  http://feeds.wired.com/c/35185/f/661457/s/3656...           0.0000   \n",
       "2  http://gadgets.ndtv.com/shortlink.aspx?article...           0.0000   \n",
       "3                                      /id/101340364           0.3182   \n",
       "4  /business/sns-rt-us-apple-icahn-20140122,0,515...           0.0000   \n",
       "\n",
       "   sentiment_class  \n",
       "0                0  \n",
       "1                0  \n",
       "2                0  \n",
       "3                1  \n",
       "4                0  "
      ]
     },
     "execution_count": 1,
     "metadata": {},
     "output_type": "execute_result"
    }
   ],
   "source": [
    "# data analysis library: pandas\n",
    "import pandas as pd\n",
    "\n",
    "# Reading the prepared apple news headline data\n",
    "apple_headlines_data = pd.read_csv('aapl_news_headline.csv', parse_dates=True)\n",
    "\n",
    "apple_headlines_data.head()"
   ]
  },
  {
   "cell_type": "markdown",
   "metadata": {},
   "source": [
    "### Filtering the necessary column"
   ]
  },
  {
   "cell_type": "code",
   "execution_count": 4,
   "metadata": {},
   "outputs": [
    {
     "data": {
      "text/html": [
       "<div>\n",
       "<style scoped>\n",
       "    .dataframe tbody tr th:only-of-type {\n",
       "        vertical-align: middle;\n",
       "    }\n",
       "\n",
       "    .dataframe tbody tr th {\n",
       "        vertical-align: top;\n",
       "    }\n",
       "\n",
       "    .dataframe thead th {\n",
       "        text-align: right;\n",
       "    }\n",
       "</style>\n",
       "<table border=\"1\" class=\"dataframe\">\n",
       "  <thead>\n",
       "    <tr style=\"text-align: right;\">\n",
       "      <th></th>\n",
       "      <th>time_stamp</th>\n",
       "      <th>news_headline</th>\n",
       "      <th>sentiment_class</th>\n",
       "      <th>sentiment_score</th>\n",
       "    </tr>\n",
       "  </thead>\n",
       "  <tbody>\n",
       "    <tr>\n",
       "      <th>42278</th>\n",
       "      <td>2016-12-31 08:15:02</td>\n",
       "      <td>apple 'blamed' for car crash, family sues company</td>\n",
       "      <td>-1</td>\n",
       "      <td>-0.7003</td>\n",
       "    </tr>\n",
       "    <tr>\n",
       "      <th>42279</th>\n",
       "      <td>2016-12-31 08:45:01</td>\n",
       "      <td>family sues apple for losing their daughter in...</td>\n",
       "      <td>-1</td>\n",
       "      <td>-0.6486</td>\n",
       "    </tr>\n",
       "    <tr>\n",
       "      <th>42280</th>\n",
       "      <td>2016-12-31 11:15:01</td>\n",
       "      <td>apple said to seek lower taxes to start manufa...</td>\n",
       "      <td>-1</td>\n",
       "      <td>-0.2960</td>\n",
       "    </tr>\n",
       "    <tr>\n",
       "      <th>42281</th>\n",
       "      <td>2016-12-31 14:45:01</td>\n",
       "      <td>texas family blame apple's facetime in suit ov...</td>\n",
       "      <td>-1</td>\n",
       "      <td>-0.8225</td>\n",
       "    </tr>\n",
       "    <tr>\n",
       "      <th>42282</th>\n",
       "      <td>2016-12-31 19:45:01</td>\n",
       "      <td>you don???t trust authority just because it we...</td>\n",
       "      <td>1</td>\n",
       "      <td>0.6298</td>\n",
       "    </tr>\n",
       "  </tbody>\n",
       "</table>\n",
       "</div>"
      ],
      "text/plain": [
       "                time_stamp                                      news_headline  \\\n",
       "42278  2016-12-31 08:15:02  apple 'blamed' for car crash, family sues company   \n",
       "42279  2016-12-31 08:45:01  family sues apple for losing their daughter in...   \n",
       "42280  2016-12-31 11:15:01  apple said to seek lower taxes to start manufa...   \n",
       "42281  2016-12-31 14:45:01  texas family blame apple's facetime in suit ov...   \n",
       "42282  2016-12-31 19:45:01  you don???t trust authority just because it we...   \n",
       "\n",
       "       sentiment_class  sentiment_score  \n",
       "42278               -1          -0.7003  \n",
       "42279               -1          -0.6486  \n",
       "42280               -1          -0.2960  \n",
       "42281               -1          -0.8225  \n",
       "42282                1           0.6298  "
      ]
     },
     "execution_count": 4,
     "metadata": {},
     "output_type": "execute_result"
    }
   ],
   "source": [
    "# filtering the necessary columns\n",
    "apple = apple_headlines_data[['time_stamp', 'news_headline', 'sentiment_class', 'sentiment_score']]\n",
    "apple.tail()"
   ]
  },
  {
   "cell_type": "code",
   "execution_count": 5,
   "metadata": {},
   "outputs": [
    {
     "data": {
      "text/plain": [
       "str"
      ]
     },
     "execution_count": 5,
     "metadata": {},
     "output_type": "execute_result"
    }
   ],
   "source": [
    "# checking the type of time_stamp\n",
    "type(apple['time_stamp'].iloc[0])"
   ]
  },
  {
   "cell_type": "code",
   "execution_count": 6,
   "metadata": {},
   "outputs": [
    {
     "name": "stderr",
     "output_type": "stream",
     "text": [
      "<ipython-input-6-e4eebb377e71>:2: SettingWithCopyWarning: \n",
      "A value is trying to be set on a copy of a slice from a DataFrame.\n",
      "Try using .loc[row_indexer,col_indexer] = value instead\n",
      "\n",
      "See the caveats in the documentation: https://pandas.pydata.org/pandas-docs/stable/user_guide/indexing.html#returning-a-view-versus-a-copy\n",
      "  apple['time_stamp'] = pd.to_datetime(apple['time_stamp'], utc=True)\n"
     ]
    },
    {
     "data": {
      "text/plain": [
       "pandas._libs.tslibs.timestamps.Timestamp"
      ]
     },
     "execution_count": 6,
     "metadata": {},
     "output_type": "execute_result"
    }
   ],
   "source": [
    "# changing the type of time_stamp column from string format to datetime format\n",
    "apple['time_stamp'] = pd.to_datetime(apple['time_stamp'], utc=True)\n",
    "type(apple['time_stamp'].iloc[0])"
   ]
  },
  {
   "cell_type": "code",
   "execution_count": 7,
   "metadata": {},
   "outputs": [
    {
     "name": "stderr",
     "output_type": "stream",
     "text": [
      "<ipython-input-7-8b9b94555588>:2: SettingWithCopyWarning: \n",
      "A value is trying to be set on a copy of a slice from a DataFrame\n",
      "\n",
      "See the caveats in the documentation: https://pandas.pydata.org/pandas-docs/stable/user_guide/indexing.html#returning-a-view-versus-a-copy\n",
      "  apple.sort_values(by='time_stamp', inplace=True)\n"
     ]
    },
    {
     "data": {
      "text/html": [
       "<div>\n",
       "<style scoped>\n",
       "    .dataframe tbody tr th:only-of-type {\n",
       "        vertical-align: middle;\n",
       "    }\n",
       "\n",
       "    .dataframe tbody tr th {\n",
       "        vertical-align: top;\n",
       "    }\n",
       "\n",
       "    .dataframe thead th {\n",
       "        text-align: right;\n",
       "    }\n",
       "</style>\n",
       "<table border=\"1\" class=\"dataframe\">\n",
       "  <thead>\n",
       "    <tr style=\"text-align: right;\">\n",
       "      <th></th>\n",
       "      <th>time_stamp</th>\n",
       "      <th>news_headline</th>\n",
       "      <th>sentiment_class</th>\n",
       "      <th>sentiment_score</th>\n",
       "    </tr>\n",
       "  </thead>\n",
       "  <tbody>\n",
       "    <tr>\n",
       "      <th>0</th>\n",
       "      <td>2014-01-27 23:47:47+00:00</td>\n",
       "      <td>carl icahn ups apple stake to $3 billion</td>\n",
       "      <td>0</td>\n",
       "      <td>0.0</td>\n",
       "    </tr>\n",
       "    <tr>\n",
       "      <th>34</th>\n",
       "      <td>2014-01-27 23:47:47+00:00</td>\n",
       "      <td>apple, google eye big pie in education space</td>\n",
       "      <td>0</td>\n",
       "      <td>0.0</td>\n",
       "    </tr>\n",
       "    <tr>\n",
       "      <th>35</th>\n",
       "      <td>2014-01-27 23:47:47+00:00</td>\n",
       "      <td>apple ipad air vs samsung galaxy note 10.1 vs ...</td>\n",
       "      <td>0</td>\n",
       "      <td>0.0</td>\n",
       "    </tr>\n",
       "    <tr>\n",
       "      <th>36</th>\n",
       "      <td>2014-01-27 23:47:47+00:00</td>\n",
       "      <td>floor tiles with apple logo sold as real ipads</td>\n",
       "      <td>0</td>\n",
       "      <td>0.0</td>\n",
       "    </tr>\n",
       "    <tr>\n",
       "      <th>37</th>\n",
       "      <td>2014-01-27 23:47:47+00:00</td>\n",
       "      <td>fixing cracked glass at apple s 5th avenue sto...</td>\n",
       "      <td>0</td>\n",
       "      <td>0.0</td>\n",
       "    </tr>\n",
       "  </tbody>\n",
       "</table>\n",
       "</div>"
      ],
      "text/plain": [
       "                  time_stamp  \\\n",
       "0  2014-01-27 23:47:47+00:00   \n",
       "34 2014-01-27 23:47:47+00:00   \n",
       "35 2014-01-27 23:47:47+00:00   \n",
       "36 2014-01-27 23:47:47+00:00   \n",
       "37 2014-01-27 23:47:47+00:00   \n",
       "\n",
       "                                        news_headline  sentiment_class  \\\n",
       "0            carl icahn ups apple stake to $3 billion                0   \n",
       "34       apple, google eye big pie in education space                0   \n",
       "35  apple ipad air vs samsung galaxy note 10.1 vs ...                0   \n",
       "36     floor tiles with apple logo sold as real ipads                0   \n",
       "37  fixing cracked glass at apple s 5th avenue sto...                0   \n",
       "\n",
       "    sentiment_score  \n",
       "0               0.0  \n",
       "34              0.0  \n",
       "35              0.0  \n",
       "36              0.0  \n",
       "37              0.0  "
      ]
     },
     "execution_count": 7,
     "metadata": {},
     "output_type": "execute_result"
    }
   ],
   "source": [
    "# sorting the apple sentiment dataframe according to the time_stamp\n",
    "apple.sort_values(by='time_stamp', inplace=True)\n",
    "apple.head()"
   ]
  },
  {
   "cell_type": "markdown",
   "metadata": {},
   "source": [
    "## 2.2 Preparation of daily opening trading timestamp for news headlines"
   ]
  },
  {
   "cell_type": "code",
   "execution_count": null,
   "metadata": {},
   "outputs": [],
   "source": [
    "'''\n",
    "The code contains the preparation of daily opening trading timestamp for news headline.\n",
    "This code is adapted from a Medium post from Flavio Valerio Roncagliolo on 29/07/2021.\n",
    "\n",
    "Medium Post here:\n",
    "https://medium.com/analytics-vidhya/sentiment-analysis-with-vader-and-algorithmic-trading-d7bef3c29c4b\n",
    "\n",
    "'''"
   ]
  },
  {
   "cell_type": "code",
   "execution_count": 11,
   "metadata": {},
   "outputs": [
    {
     "name": "stderr",
     "output_type": "stream",
     "text": [
      "<ipython-input-11-149cca8a92a6>:5: DeprecationWarning: The default dtype for empty Series will be 'object' instead of 'float64' in a future version. Specify a dtype explicitly to silence this warning.\n",
      "  apple[\"trading_time\"] = pd.Series([])\n"
     ]
    },
    {
     "data": {
      "text/html": [
       "<div>\n",
       "<style scoped>\n",
       "    .dataframe tbody tr th:only-of-type {\n",
       "        vertical-align: middle;\n",
       "    }\n",
       "\n",
       "    .dataframe tbody tr th {\n",
       "        vertical-align: top;\n",
       "    }\n",
       "\n",
       "    .dataframe thead th {\n",
       "        text-align: right;\n",
       "    }\n",
       "</style>\n",
       "<table border=\"1\" class=\"dataframe\">\n",
       "  <thead>\n",
       "    <tr style=\"text-align: right;\">\n",
       "      <th></th>\n",
       "      <th>time_stamp</th>\n",
       "      <th>news_headline</th>\n",
       "      <th>sentiment_class</th>\n",
       "      <th>sentiment_score</th>\n",
       "      <th>trading_time</th>\n",
       "    </tr>\n",
       "  </thead>\n",
       "  <tbody>\n",
       "    <tr>\n",
       "      <th>42278</th>\n",
       "      <td>2016-12-31 08:15:02+00:00</td>\n",
       "      <td>apple 'blamed' for car crash, family sues company</td>\n",
       "      <td>-1</td>\n",
       "      <td>-0.7003</td>\n",
       "      <td>2017-01-02 09:30:00+00:00</td>\n",
       "    </tr>\n",
       "    <tr>\n",
       "      <th>42279</th>\n",
       "      <td>2016-12-31 08:45:01+00:00</td>\n",
       "      <td>family sues apple for losing their daughter in...</td>\n",
       "      <td>-1</td>\n",
       "      <td>-0.6486</td>\n",
       "      <td>2017-01-02 09:30:00+00:00</td>\n",
       "    </tr>\n",
       "    <tr>\n",
       "      <th>42280</th>\n",
       "      <td>2016-12-31 11:15:01+00:00</td>\n",
       "      <td>apple said to seek lower taxes to start manufa...</td>\n",
       "      <td>-1</td>\n",
       "      <td>-0.2960</td>\n",
       "      <td>2017-01-02 09:30:00+00:00</td>\n",
       "    </tr>\n",
       "    <tr>\n",
       "      <th>42281</th>\n",
       "      <td>2016-12-31 14:45:01+00:00</td>\n",
       "      <td>texas family blame apple's facetime in suit ov...</td>\n",
       "      <td>-1</td>\n",
       "      <td>-0.8225</td>\n",
       "      <td>2017-01-02 09:30:00+00:00</td>\n",
       "    </tr>\n",
       "    <tr>\n",
       "      <th>42282</th>\n",
       "      <td>2016-12-31 19:45:01+00:00</td>\n",
       "      <td>you don???t trust authority just because it we...</td>\n",
       "      <td>1</td>\n",
       "      <td>0.6298</td>\n",
       "      <td>2017-01-02 09:30:00+00:00</td>\n",
       "    </tr>\n",
       "  </tbody>\n",
       "</table>\n",
       "</div>"
      ],
      "text/plain": [
       "                     time_stamp  \\\n",
       "42278 2016-12-31 08:15:02+00:00   \n",
       "42279 2016-12-31 08:45:01+00:00   \n",
       "42280 2016-12-31 11:15:01+00:00   \n",
       "42281 2016-12-31 14:45:01+00:00   \n",
       "42282 2016-12-31 19:45:01+00:00   \n",
       "\n",
       "                                           news_headline  sentiment_class  \\\n",
       "42278  apple 'blamed' for car crash, family sues company               -1   \n",
       "42279  family sues apple for losing their daughter in...               -1   \n",
       "42280  apple said to seek lower taxes to start manufa...               -1   \n",
       "42281  texas family blame apple's facetime in suit ov...               -1   \n",
       "42282  you don???t trust authority just because it we...                1   \n",
       "\n",
       "       sentiment_score               trading_time  \n",
       "42278          -0.7003  2017-01-02 09:30:00+00:00  \n",
       "42279          -0.6486  2017-01-02 09:30:00+00:00  \n",
       "42280          -0.2960  2017-01-02 09:30:00+00:00  \n",
       "42281          -0.8225  2017-01-02 09:30:00+00:00  \n",
       "42282           0.6298  2017-01-02 09:30:00+00:00  "
      ]
     },
     "execution_count": 11,
     "metadata": {},
     "output_type": "execute_result"
    }
   ],
   "source": [
    "# importing datetime and BDay for calculating business day\n",
    "from datetime import datetime, timedelta\n",
    "from pandas.tseries.offsets import BDay\n",
    "\n",
    "apple[\"trading_time\"] = pd.Series([])\n",
    "for i in range(0, len(apple)):\n",
    "    # calculating today's opening date, today's closing date, yesterday's closing time, \n",
    "    # and tomorrows's opening date for the news headline\n",
    "    todays_opening_date = pd.to_datetime(apple[\"time_stamp\"].iloc[i]).floor('d').replace(hour=9,minute=30) - BDay(0)\n",
    "    todays_closing_date = pd.to_datetime(apple[\"time_stamp\"].iloc[i]).floor('d').replace(hour=16,minute=0) - BDay(0)\n",
    "    yesterdays_closing_date = (todays_opening_date - BDay()).replace(hour=16,minute=0)\n",
    "    tomorrows_opening_date = (todays_closing_date + BDay()).replace(hour=9,minute=30)\n",
    "    \n",
    "    # The trading time column will include today's market open timestamp if the headline falls between \n",
    "    # yesterday's closing time and today's market open time.\n",
    "    if ((pd.to_datetime(apple[\"time_stamp\"].iloc[i])>=yesterdays_closing_date) & (pd.to_datetime(apple[\"time_stamp\"].iloc[i])<todays_opening_date)):\n",
    "        apple.at[i, \"trading_time\"] = todays_opening_date\n",
    "    \n",
    "    # if the news headline falls between today's market close time and tomorrow's market open time, \n",
    "    # the time in this trading column will be tomorrow's open time. \n",
    "    elif ((pd.to_datetime(apple[\"time_stamp\"].iloc[i])>=todays_closing_date) & (pd.to_datetime(apple[\"time_stamp\"].iloc[i])<tomorrows_opening_date)):\n",
    "        apple.at[i, \"trading_time\"] = tomorrows_opening_date\n",
    "    \n",
    "    else:\n",
    "        pass\n",
    "    \n",
    "apple.tail()"
   ]
  },
  {
   "cell_type": "markdown",
   "metadata": {},
   "source": [
    "## 2.3 Calculate daily sentiment score\n",
    "\n",
    "Calculating the average value of sentiment data for a given day. The mean sentiment score represents the aggregated sentiment for that particular day. In order to calculate the average sentiment score, all of the sentiment scores for that day are averaged. After the news sentiment data has been aggregated between 4:00 pm and 9:30 am, an average value is calculated."
   ]
  },
  {
   "cell_type": "code",
   "execution_count": 12,
   "metadata": {},
   "outputs": [],
   "source": [
    "apple_daily_sentiment = apple.groupby('trading_time').sentiment_score.agg('mean').to_frame('score')"
   ]
  },
  {
   "cell_type": "code",
   "execution_count": 13,
   "metadata": {},
   "outputs": [
    {
     "data": {
      "text/html": [
       "<div>\n",
       "<style scoped>\n",
       "    .dataframe tbody tr th:only-of-type {\n",
       "        vertical-align: middle;\n",
       "    }\n",
       "\n",
       "    .dataframe tbody tr th {\n",
       "        vertical-align: top;\n",
       "    }\n",
       "\n",
       "    .dataframe thead th {\n",
       "        text-align: right;\n",
       "    }\n",
       "</style>\n",
       "<table border=\"1\" class=\"dataframe\">\n",
       "  <thead>\n",
       "    <tr style=\"text-align: right;\">\n",
       "      <th></th>\n",
       "      <th>score</th>\n",
       "    </tr>\n",
       "    <tr>\n",
       "      <th>trading_time</th>\n",
       "      <th></th>\n",
       "    </tr>\n",
       "  </thead>\n",
       "  <tbody>\n",
       "    <tr>\n",
       "      <th>2014-01-28 09:30:00+00:00</th>\n",
       "      <td>0.039278</td>\n",
       "    </tr>\n",
       "    <tr>\n",
       "      <th>2014-01-29 09:30:00+00:00</th>\n",
       "      <td>0.026540</td>\n",
       "    </tr>\n",
       "    <tr>\n",
       "      <th>2014-01-30 09:30:00+00:00</th>\n",
       "      <td>0.029652</td>\n",
       "    </tr>\n",
       "    <tr>\n",
       "      <th>2014-01-31 09:30:00+00:00</th>\n",
       "      <td>0.213817</td>\n",
       "    </tr>\n",
       "    <tr>\n",
       "      <th>2014-02-03 09:30:00+00:00</th>\n",
       "      <td>-0.028657</td>\n",
       "    </tr>\n",
       "  </tbody>\n",
       "</table>\n",
       "</div>"
      ],
      "text/plain": [
       "                              score\n",
       "trading_time                       \n",
       "2014-01-28 09:30:00+00:00  0.039278\n",
       "2014-01-29 09:30:00+00:00  0.026540\n",
       "2014-01-30 09:30:00+00:00  0.029652\n",
       "2014-01-31 09:30:00+00:00  0.213817\n",
       "2014-02-03 09:30:00+00:00 -0.028657"
      ]
     },
     "execution_count": 13,
     "metadata": {},
     "output_type": "execute_result"
    }
   ],
   "source": [
    "apple_daily_sentiment.head()"
   ]
  },
  {
   "cell_type": "code",
   "execution_count": 15,
   "metadata": {},
   "outputs": [
    {
     "data": {
      "image/png": "[encoded data removed]",
      "text/plain": [
       "<Figure size 1080x576 with 1 Axes>"
      ]
     },
     "metadata": {
      "needs_background": "light"
     },
     "output_type": "display_data"
    }
   ],
   "source": [
    "import matplotlib.pyplot as plt\n",
    "plt.figure(figsize=(15, 8))\n",
    "plt.plot(apple_daily_sentiment)\n",
    "plt.title('Apple Stock Daily News Headline Sentiment Score', fontsize=16)\n",
    "plt.xlabel('Date', fontsize=14)\n",
    "plt.ylabel('Sentiment Score', fontsize=14)\n",
    "plt.show()"
   ]
  },
  {
   "cell_type": "code",
   "execution_count": 16,
   "metadata": {},
   "outputs": [
    {
     "data": {
      "text/html": [
       "<div>\n",
       "<style scoped>\n",
       "    .dataframe tbody tr th:only-of-type {\n",
       "        vertical-align: middle;\n",
       "    }\n",
       "\n",
       "    .dataframe tbody tr th {\n",
       "        vertical-align: top;\n",
       "    }\n",
       "\n",
       "    .dataframe thead th {\n",
       "        text-align: right;\n",
       "    }\n",
       "</style>\n",
       "<table border=\"1\" class=\"dataframe\">\n",
       "  <thead>\n",
       "    <tr style=\"text-align: right;\">\n",
       "      <th></th>\n",
       "      <th>trading_time</th>\n",
       "      <th>score</th>\n",
       "    </tr>\n",
       "    <tr>\n",
       "      <th>Date</th>\n",
       "      <th></th>\n",
       "      <th></th>\n",
       "    </tr>\n",
       "  </thead>\n",
       "  <tbody>\n",
       "    <tr>\n",
       "      <th>2014-01-28</th>\n",
       "      <td>2014-01-28 09:30:00+00:00</td>\n",
       "      <td>0.039278</td>\n",
       "    </tr>\n",
       "    <tr>\n",
       "      <th>2014-01-29</th>\n",
       "      <td>2014-01-29 09:30:00+00:00</td>\n",
       "      <td>0.026540</td>\n",
       "    </tr>\n",
       "    <tr>\n",
       "      <th>2014-01-30</th>\n",
       "      <td>2014-01-30 09:30:00+00:00</td>\n",
       "      <td>0.029652</td>\n",
       "    </tr>\n",
       "    <tr>\n",
       "      <th>2014-01-31</th>\n",
       "      <td>2014-01-31 09:30:00+00:00</td>\n",
       "      <td>0.213817</td>\n",
       "    </tr>\n",
       "    <tr>\n",
       "      <th>2014-02-03</th>\n",
       "      <td>2014-02-03 09:30:00+00:00</td>\n",
       "      <td>-0.028657</td>\n",
       "    </tr>\n",
       "  </tbody>\n",
       "</table>\n",
       "</div>"
      ],
      "text/plain": [
       "                        trading_time     score\n",
       "Date                                          \n",
       "2014-01-28 2014-01-28 09:30:00+00:00  0.039278\n",
       "2014-01-29 2014-01-29 09:30:00+00:00  0.026540\n",
       "2014-01-30 2014-01-30 09:30:00+00:00  0.029652\n",
       "2014-01-31 2014-01-31 09:30:00+00:00  0.213817\n",
       "2014-02-03 2014-02-03 09:30:00+00:00 -0.028657"
      ]
     },
     "execution_count": 16,
     "metadata": {},
     "output_type": "execute_result"
    }
   ],
   "source": [
    "# Because of all the above operations, the indices are disturbed, so reseting the index\n",
    "apple_daily_sentiment.reset_index(inplace=True)\n",
    "\n",
    "# creating date column\n",
    "apple_daily_sentiment['Date'] = pd.to_datetime(apple_daily_sentiment['trading_time']).dt.floor('d')\n",
    "\n",
    "# we don't need time zone information, so removing it\n",
    "apple_daily_sentiment['Date'] = apple_daily_sentiment['Date'].apply(lambda d: d.replace(tzinfo=None))\n",
    "\n",
    "# setting date as an index\n",
    "apple_daily_sentiment.set_index(\"Date\", inplace=True)\n",
    "apple_daily_sentiment.head()"
   ]
  },
  {
   "cell_type": "markdown",
   "metadata": {},
   "source": [
    "## 2.4 Store daily sentiment score in CSV file "
   ]
  },
  {
   "cell_type": "code",
   "execution_count": 11,
   "metadata": {},
   "outputs": [],
   "source": [
    "apple_daily_sentiment.to_csv('apple_daily_sentiment.csv')"
   ]
  },
  {
   "cell_type": "code",
   "execution_count": null,
   "metadata": {},
   "outputs": [],
   "source": []
  }
 ],
 "metadata": {
  "kernelspec": {
   "display_name": "Python 3",
   "language": "python",
   "name": "python3"
  },
  "language_info": {
   "codemirror_mode": {
    "name": "ipython",
    "version": 3
   },
   "file_extension": ".py",
   "mimetype": "text/x-python",
   "name": "python",
   "nbconvert_exporter": "python",
   "pygments_lexer": "ipython3",
   "version": "3.8.3"
  }
 },
 "nbformat": 4,
 "nbformat_minor": 4
}
