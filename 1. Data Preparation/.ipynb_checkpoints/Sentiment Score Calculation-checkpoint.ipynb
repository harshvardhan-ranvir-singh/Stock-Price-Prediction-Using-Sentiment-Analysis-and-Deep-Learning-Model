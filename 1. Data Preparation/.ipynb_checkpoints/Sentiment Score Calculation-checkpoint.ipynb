{
 "cells": [
  {
   "cell_type": "markdown",
   "metadata": {
    "colab_type": "text",
    "id": "7DumudueTh9H"
   },
   "source": [
    "## Calculating Sentiment Score of each News Headlines"
   ]
  },
  {
   "cell_type": "code",
   "execution_count": 1,
   "metadata": {},
   "outputs": [],
   "source": [
    "import pandas as pd"
   ]
  },
  {
   "cell_type": "code",
   "execution_count": null,
   "metadata": {},
   "outputs": [],
   "source": [
    "# There were around 80000 rows in aapl_news_headline data.\n",
    "# Then I deleted the duplicated rows by news_headline column\n",
    "# Then filtered the dataframe and only took the necessary columns such as ['news_headline', 'time_stamp', 'URL']. \n",
    "# Earlier 'time_stamp' column was called 'start_time_stamp'"
   ]
  },
  {
   "cell_type": "code",
   "execution_count": 1,
   "metadata": {},
   "outputs": [
    {
     "name": "stdout",
     "output_type": "stream",
     "text": [
      "Collecting vaderSentiment\n",
      "  Downloading vaderSentiment-3.3.2-py2.py3-none-any.whl (125 kB)\n",
      "\u001b[K     |████████████████████████████████| 125 kB 5.2 MB/s eta 0:00:01\n",
      "\u001b[?25hRequirement already satisfied: requests in /Users/harsh/opt/anaconda3/lib/python3.8/site-packages (from vaderSentiment) (2.25.1)\n",
      "Requirement already satisfied: idna<3,>=2.5 in /Users/harsh/opt/anaconda3/lib/python3.8/site-packages (from requests->vaderSentiment) (2.10)\n",
      "Requirement already satisfied: certifi>=2017.4.17 in /Users/harsh/opt/anaconda3/lib/python3.8/site-packages (from requests->vaderSentiment) (2020.6.20)\n",
      "Requirement already satisfied: chardet<5,>=3.0.2 in /Users/harsh/opt/anaconda3/lib/python3.8/site-packages (from requests->vaderSentiment) (4.0.0)\n",
      "Requirement already satisfied: urllib3<1.27,>=1.21.1 in /Users/harsh/opt/anaconda3/lib/python3.8/site-packages (from requests->vaderSentiment) (1.26.3)\n",
      "Installing collected packages: vaderSentiment\n",
      "Successfully installed vaderSentiment-3.3.2\n"
     ]
    }
   ],
   "source": [
    "!pip install vaderSentiment"
   ]
  },
  {
   "cell_type": "code",
   "execution_count": 6,
   "metadata": {},
   "outputs": [
    {
     "data": {
      "text/plain": [
       "2.0"
      ]
     },
     "execution_count": 6,
     "metadata": {},
     "output_type": "execute_result"
    }
   ],
   "source": [
    "# using the vaderSentiment\n",
    "from vaderSentiment.vaderSentiment import SentimentIntensityAnalyzer\n",
    "\n",
    "analyzer = SentimentIntensityAnalyzer()\n",
    "new_words = {\n",
    "    \"bear\" : -2.0,\n",
    "    \"bull\" : 2.0,\n",
    "}\n",
    "analyzer.lexicon.update(new_words)\n",
    "\n",
    "analyzer.lexicon[\"bull\"]\n"
   ]
  },
  {
   "cell_type": "code",
   "execution_count": 8,
   "metadata": {},
   "outputs": [],
   "source": [
    "# Now let's get to the business and calculate sentiment class \n",
    "# and sentiment score for our news headline data\n",
    "def sentimenClassCalculation(negative, positive):\n",
    "    \n",
    "    if negative > positive:\n",
    "        return -1\n",
    "    elif positive > negative:\n",
    "        return 1\n",
    "    else:\n",
    "        return 0\n"
   ]
  },
  {
   "cell_type": "code",
   "execution_count": 3,
   "metadata": {},
   "outputs": [],
   "source": [
    "my_apple_dataset = pd.read_csv(\"aapl_news_headline.csv\")"
   ]
  },
  {
   "cell_type": "code",
   "execution_count": 13,
   "metadata": {},
   "outputs": [
    {
     "data": {
      "text/html": [
       "<div>\n",
       "<style scoped>\n",
       "    .dataframe tbody tr th:only-of-type {\n",
       "        vertical-align: middle;\n",
       "    }\n",
       "\n",
       "    .dataframe tbody tr th {\n",
       "        vertical-align: top;\n",
       "    }\n",
       "\n",
       "    .dataframe thead th {\n",
       "        text-align: right;\n",
       "    }\n",
       "</style>\n",
       "<table border=\"1\" class=\"dataframe\">\n",
       "  <thead>\n",
       "    <tr style=\"text-align: right;\">\n",
       "      <th></th>\n",
       "      <th>news_headline</th>\n",
       "      <th>time_stamp</th>\n",
       "      <th>URL</th>\n",
       "      <th>sentiment_score</th>\n",
       "    </tr>\n",
       "  </thead>\n",
       "  <tbody>\n",
       "    <tr>\n",
       "      <th>0</th>\n",
       "      <td>carl icahn ups apple stake to $3 billion</td>\n",
       "      <td>2014-01-27 23:47:47</td>\n",
       "      <td>http://money.cnn.com/2014/01/22/technology/app...</td>\n",
       "      <td>0.0000</td>\n",
       "    </tr>\n",
       "    <tr>\n",
       "      <th>1</th>\n",
       "      <td>the apple mac at 30: see the evolution of a…</td>\n",
       "      <td>2014-01-27 23:47:47</td>\n",
       "      <td>http://feeds.wired.com/c/35185/f/661457/s/3656...</td>\n",
       "      <td>0.0000</td>\n",
       "    </tr>\n",
       "    <tr>\n",
       "      <th>2</th>\n",
       "      <td>apple engineers who brought mac to life get  r...</td>\n",
       "      <td>2014-01-27 23:47:47</td>\n",
       "      <td>http://gadgets.ndtv.com/shortlink.aspx?article...</td>\n",
       "      <td>0.0000</td>\n",
       "    </tr>\n",
       "    <tr>\n",
       "      <th>3</th>\n",
       "      <td>apple takes a fresh bite into china s market</td>\n",
       "      <td>2014-01-27 23:47:47</td>\n",
       "      <td>/id/101340364</td>\n",
       "      <td>0.3182</td>\n",
       "    </tr>\n",
       "    <tr>\n",
       "      <th>4</th>\n",
       "      <td>icahn takes another $500 million bite out of a...</td>\n",
       "      <td>2014-01-27 23:47:47</td>\n",
       "      <td>/business/sns-rt-us-apple-icahn-20140122,0,515...</td>\n",
       "      <td>0.0000</td>\n",
       "    </tr>\n",
       "  </tbody>\n",
       "</table>\n",
       "</div>"
      ],
      "text/plain": [
       "                                       news_headline           time_stamp  \\\n",
       "0           carl icahn ups apple stake to $3 billion  2014-01-27 23:47:47   \n",
       "1       the apple mac at 30: see the evolution of a…  2014-01-27 23:47:47   \n",
       "2  apple engineers who brought mac to life get  r...  2014-01-27 23:47:47   \n",
       "3       apple takes a fresh bite into china s market  2014-01-27 23:47:47   \n",
       "4  icahn takes another $500 million bite out of a...  2014-01-27 23:47:47   \n",
       "\n",
       "                                                 URL  sentiment_score  \n",
       "0  http://money.cnn.com/2014/01/22/technology/app...           0.0000  \n",
       "1  http://feeds.wired.com/c/35185/f/661457/s/3656...           0.0000  \n",
       "2  http://gadgets.ndtv.com/shortlink.aspx?article...           0.0000  \n",
       "3                                      /id/101340364           0.3182  \n",
       "4  /business/sns-rt-us-apple-icahn-20140122,0,515...           0.0000  "
      ]
     },
     "execution_count": 13,
     "metadata": {},
     "output_type": "execute_result"
    }
   ],
   "source": [
    "# Calculate sentiment_score\n",
    "my_apple_dataset[\"sentiment_score\"] = my_apple_dataset[\"news_headline\"].apply(lambda news: analyzer.polarity_scores(news)['compound'])\n",
    "my_apple_dataset.head()"
   ]
  },
  {
   "cell_type": "code",
   "execution_count": 9,
   "metadata": {},
   "outputs": [
    {
     "name": "stderr",
     "output_type": "stream",
     "text": [
      "<ipython-input-9-20465f904778>:6: SettingWithCopyWarning: \n",
      "A value is trying to be set on a copy of a slice from a DataFrame\n",
      "\n",
      "See the caveats in the documentation: https://pandas.pydata.org/pandas-docs/stable/user_guide/indexing.html#returning-a-view-versus-a-copy\n",
      "  my_apple_dataset[\"sentiment_class\"][i] = sentimenClassCalculation(score['neg'], score['pos'])\n"
     ]
    }
   ],
   "source": [
    "#Calculate sentiment_class\n",
    "\n",
    "my_apple_dataset[\"sentiment_class\"] = 0\n",
    "for i in range(0, len(my_apple_dataset)):\n",
    "    \n",
    "    score = analyzer.polarity_scores(my_apple_dataset[\"news_headline\"][i])\n",
    "    my_apple_dataset[\"sentiment_class\"][i] = sentimenClassCalculation(score['neg'], score['pos'])"
   ]
  },
  {
   "cell_type": "code",
   "execution_count": 10,
   "metadata": {},
   "outputs": [
    {
     "data": {
      "text/html": [
       "<div>\n",
       "<style scoped>\n",
       "    .dataframe tbody tr th:only-of-type {\n",
       "        vertical-align: middle;\n",
       "    }\n",
       "\n",
       "    .dataframe tbody tr th {\n",
       "        vertical-align: top;\n",
       "    }\n",
       "\n",
       "    .dataframe thead th {\n",
       "        text-align: right;\n",
       "    }\n",
       "</style>\n",
       "<table border=\"1\" class=\"dataframe\">\n",
       "  <thead>\n",
       "    <tr style=\"text-align: right;\">\n",
       "      <th></th>\n",
       "      <th>news_headline</th>\n",
       "      <th>time_stamp</th>\n",
       "      <th>URL</th>\n",
       "      <th>sentiment_score</th>\n",
       "      <th>sentiment_class</th>\n",
       "    </tr>\n",
       "  </thead>\n",
       "  <tbody>\n",
       "    <tr>\n",
       "      <th>0</th>\n",
       "      <td>carl icahn ups apple stake to $3 billion</td>\n",
       "      <td>2014-01-27 23:47:47</td>\n",
       "      <td>http://money.cnn.com/2014/01/22/technology/app...</td>\n",
       "      <td>0.0000</td>\n",
       "      <td>0</td>\n",
       "    </tr>\n",
       "    <tr>\n",
       "      <th>1</th>\n",
       "      <td>the apple mac at 30: see the evolution of a…</td>\n",
       "      <td>2014-01-27 23:47:47</td>\n",
       "      <td>http://feeds.wired.com/c/35185/f/661457/s/3656...</td>\n",
       "      <td>0.0000</td>\n",
       "      <td>0</td>\n",
       "    </tr>\n",
       "    <tr>\n",
       "      <th>2</th>\n",
       "      <td>apple engineers who brought mac to life get  r...</td>\n",
       "      <td>2014-01-27 23:47:47</td>\n",
       "      <td>http://gadgets.ndtv.com/shortlink.aspx?article...</td>\n",
       "      <td>0.0000</td>\n",
       "      <td>0</td>\n",
       "    </tr>\n",
       "    <tr>\n",
       "      <th>3</th>\n",
       "      <td>apple takes a fresh bite into china s market</td>\n",
       "      <td>2014-01-27 23:47:47</td>\n",
       "      <td>/id/101340364</td>\n",
       "      <td>0.3182</td>\n",
       "      <td>1</td>\n",
       "    </tr>\n",
       "    <tr>\n",
       "      <th>4</th>\n",
       "      <td>icahn takes another $500 million bite out of a...</td>\n",
       "      <td>2014-01-27 23:47:47</td>\n",
       "      <td>/business/sns-rt-us-apple-icahn-20140122,0,515...</td>\n",
       "      <td>0.0000</td>\n",
       "      <td>0</td>\n",
       "    </tr>\n",
       "    <tr>\n",
       "      <th>...</th>\n",
       "      <td>...</td>\n",
       "      <td>...</td>\n",
       "      <td>...</td>\n",
       "      <td>...</td>\n",
       "      <td>...</td>\n",
       "    </tr>\n",
       "    <tr>\n",
       "      <th>42278</th>\n",
       "      <td>apple 'blamed' for car crash, family sues company</td>\n",
       "      <td>2016-12-31 08:15:02</td>\n",
       "      <td>/tech-news/apple-blamed-for-car-crash-family-s...</td>\n",
       "      <td>-0.7003</td>\n",
       "      <td>-1</td>\n",
       "    </tr>\n",
       "    <tr>\n",
       "      <th>42279</th>\n",
       "      <td>family sues apple for losing their daughter in...</td>\n",
       "      <td>2016-12-31 08:45:01</td>\n",
       "      <td>http://www.news18.com/news/tech/family-sues-ap...</td>\n",
       "      <td>-0.6486</td>\n",
       "      <td>-1</td>\n",
       "    </tr>\n",
       "    <tr>\n",
       "      <th>42280</th>\n",
       "      <td>apple said to seek lower taxes to start manufa...</td>\n",
       "      <td>2016-12-31 11:15:01</td>\n",
       "      <td>http://profit.ndtv.com/news/gadgets/article-ap...</td>\n",
       "      <td>-0.2960</td>\n",
       "      <td>-1</td>\n",
       "    </tr>\n",
       "    <tr>\n",
       "      <th>42281</th>\n",
       "      <td>texas family blame apple's facetime in suit ov...</td>\n",
       "      <td>2016-12-31 14:45:01</td>\n",
       "      <td>/Technology/wireStory/texas-family-blame-apple...</td>\n",
       "      <td>-0.8225</td>\n",
       "      <td>-1</td>\n",
       "    </tr>\n",
       "    <tr>\n",
       "      <th>42282</th>\n",
       "      <td>you don???t trust authority just because it we...</td>\n",
       "      <td>2016-12-31 19:45:01</td>\n",
       "      <td>http://www.thehindu.com/books/books-authors/Yo...</td>\n",
       "      <td>0.6298</td>\n",
       "      <td>1</td>\n",
       "    </tr>\n",
       "  </tbody>\n",
       "</table>\n",
       "<p>42283 rows × 5 columns</p>\n",
       "</div>"
      ],
      "text/plain": [
       "                                           news_headline           time_stamp  \\\n",
       "0               carl icahn ups apple stake to $3 billion  2014-01-27 23:47:47   \n",
       "1           the apple mac at 30: see the evolution of a…  2014-01-27 23:47:47   \n",
       "2      apple engineers who brought mac to life get  r...  2014-01-27 23:47:47   \n",
       "3           apple takes a fresh bite into china s market  2014-01-27 23:47:47   \n",
       "4      icahn takes another $500 million bite out of a...  2014-01-27 23:47:47   \n",
       "...                                                  ...                  ...   \n",
       "42278  apple 'blamed' for car crash, family sues company  2016-12-31 08:15:02   \n",
       "42279  family sues apple for losing their daughter in...  2016-12-31 08:45:01   \n",
       "42280  apple said to seek lower taxes to start manufa...  2016-12-31 11:15:01   \n",
       "42281  texas family blame apple's facetime in suit ov...  2016-12-31 14:45:01   \n",
       "42282  you don???t trust authority just because it we...  2016-12-31 19:45:01   \n",
       "\n",
       "                                                     URL  sentiment_score  \\\n",
       "0      http://money.cnn.com/2014/01/22/technology/app...           0.0000   \n",
       "1      http://feeds.wired.com/c/35185/f/661457/s/3656...           0.0000   \n",
       "2      http://gadgets.ndtv.com/shortlink.aspx?article...           0.0000   \n",
       "3                                          /id/101340364           0.3182   \n",
       "4      /business/sns-rt-us-apple-icahn-20140122,0,515...           0.0000   \n",
       "...                                                  ...              ...   \n",
       "42278  /tech-news/apple-blamed-for-car-crash-family-s...          -0.7003   \n",
       "42279  http://www.news18.com/news/tech/family-sues-ap...          -0.6486   \n",
       "42280  http://profit.ndtv.com/news/gadgets/article-ap...          -0.2960   \n",
       "42281  /Technology/wireStory/texas-family-blame-apple...          -0.8225   \n",
       "42282  http://www.thehindu.com/books/books-authors/Yo...           0.6298   \n",
       "\n",
       "       sentiment_class  \n",
       "0                    0  \n",
       "1                    0  \n",
       "2                    0  \n",
       "3                    1  \n",
       "4                    0  \n",
       "...                ...  \n",
       "42278               -1  \n",
       "42279               -1  \n",
       "42280               -1  \n",
       "42281               -1  \n",
       "42282                1  \n",
       "\n",
       "[42283 rows x 5 columns]"
      ]
     },
     "execution_count": 10,
     "metadata": {},
     "output_type": "execute_result"
    }
   ],
   "source": [
    "my_apple_dataset"
   ]
  },
  {
   "cell_type": "code",
   "execution_count": 11,
   "metadata": {},
   "outputs": [],
   "source": [
    "#my_apple_dataset.to_csv(\"aapl_news_headline.csv\", index=False)"
   ]
  },
  {
   "cell_type": "code",
   "execution_count": null,
   "metadata": {},
   "outputs": [],
   "source": []
  }
 ],
 "metadata": {
  "colab": {
   "collapsed_sections": [],
   "name": "Data Source and Frequency.ipynb",
   "provenance": []
  },
  "kernelspec": {
   "display_name": "Python 3",
   "language": "python",
   "name": "python3"
  },
  "language_info": {
   "codemirror_mode": {
    "name": "ipython",
    "version": 3
   },
   "file_extension": ".py",
   "mimetype": "text/x-python",
   "name": "python",
   "nbconvert_exporter": "python",
   "pygments_lexer": "ipython3",
   "version": "3.8.3"
  },
  "toc": {
   "base_numbering": 1,
   "nav_menu": {},
   "number_sections": true,
   "sideBar": true,
   "skip_h1_title": false,
   "title_cell": "Table of Contents",
   "title_sidebar": "Contents",
   "toc_cell": false,
   "toc_position": {},
   "toc_section_display": true,
   "toc_window_display": false
  },
  "varInspector": {
   "cols": {
    "lenName": 16,
    "lenType": 16,
    "lenVar": 40
   },
   "kernels_config": {
    "python": {
     "delete_cmd_postfix": "",
     "delete_cmd_prefix": "del ",
     "library": "var_list.py",
     "varRefreshCmd": "print(var_dic_list())"
    },
    "r": {
     "delete_cmd_postfix": ") ",
     "delete_cmd_prefix": "rm(",
     "library": "var_list.r",
     "varRefreshCmd": "cat(var_dic_list()) "
    }
   },
   "types_to_exclude": [
    "module",
    "function",
    "builtin_function_or_method",
    "instance",
    "_Feature"
   ],
   "window_display": false
  }
 },
 "nbformat": 4,
 "nbformat_minor": 4
}
