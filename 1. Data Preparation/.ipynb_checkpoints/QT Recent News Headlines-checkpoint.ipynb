{
 "cells": [
  {
   "cell_type": "markdown",
   "metadata": {
    "colab_type": "text",
    "id": "EkBek9egQMVQ"
   },
   "source": [
    "# Notebook Instructions\n",
    "<i>You can run the notebook document sequentially (one cell at a time) by pressing <b> shift + enter</b>. While a cell is running, a [*] will display on the left. When it has been run, a number will display indicating the order in which it was run in the notebook [8].</i>\n",
    "\n",
    "<i>Enter edit mode by pressing <b>`Enter`</b> or using the mouse to click on a cell's editor area. Edit mode is indicated by a green cell border and a prompt showing in the editor area.</i> <BR>\n",
    "    \n",
    "This course is based on specific versions of python packages. You can find the details of the same in <a href='https://quantra.quantinsti.com/quantra-notebook' target=\"_blank\" >this manual</a>. The manual also explains how to use these codes in other versions of python packages. <BR>"
   ]
  },
  {
   "cell_type": "markdown",
   "metadata": {
    "colab_type": "text",
    "id": "lvFBoDwuQMVT"
   },
   "source": [
    "## Recent News Headlines\n",
    "\n",
    "There are various Python APIs such as [Webhose](http://webhose.io/), [NewsAPI](http://newsapi.org/pricing), [GoogleNews](http://pypi.org/project/GoogleNews/) which aggregate news headlines from various media sources.\n",
    "\n",
    "In this notebook, you will learn how to fetch articles from the Webhose API. This notebook is divided into the following sections:\n",
    "\n",
    "1. Import libraries\n",
    "2. Fetch API key\n",
    "2. Apply filters\n",
    "3. Fetch 100 news headlines\n",
    "4. Fetch remaining headlines"
   ]
  },
  {
   "cell_type": "markdown",
   "metadata": {
    "colab_type": "text",
    "id": "5KBiKOpkQMVU"
   },
   "source": [
    "## Import libraries"
   ]
  },
  {
   "cell_type": "code",
   "execution_count": 1,
   "metadata": {
    "colab": {},
    "colab_type": "code",
    "id": "1tDpOL27QMVV"
   },
   "outputs": [],
   "source": [
    "# For data manipulation\n",
    "import pandas as pd\n",
    "\n",
    "# Import webhoseio\n",
    "import webhoseio"
   ]
  },
  {
   "cell_type": "markdown",
   "metadata": {
    "colab_type": "text",
    "id": "6H9aflBKQMVY"
   },
   "source": [
    "## Get API key"
   ]
  },
  {
   "cell_type": "markdown",
   "metadata": {
    "colab_type": "text",
    "id": "eWrPQR--QMVZ"
   },
   "source": [
    "To use the Webhose API, you need to obtain an API  key that would be used on every request. To get an API key, create an [account](https://webhose.io/auth/signup), and then go on [dashboard](https://webhose.io/dashboard ) to see your token. \n",
    "\n",
    "<b>Note:</b> For free users, API requests are limited to 1000 per month. Once the limit is reached, you need to purchase the API access for further use."
   ]
  },
  {
   "cell_type": "code",
   "execution_count": 0,
   "metadata": {
    "colab": {},
    "colab_type": "code",
    "id": "fpefH_JvQMVa",
    "scrolled": true
   },
   "outputs": [],
   "source": [
    "# Import the get_webhoseio_key from the sentiment_analysis_quantra module\n",
    "# The code of this module can be found in the downloads (last section) of this course\n",
    "# You need to edit sentiment_analysis_quantra.py file and add your webhoseio key manually before you continue\n",
    "from data_modules.sentiment_analysis_quantra import get_webhoseio_key\n",
    "api_key = get_webhoseio_key()\n",
    "webhoseio.config(token=api_key)"
   ]
  },
  {
   "cell_type": "markdown",
   "metadata": {
    "colab_type": "text",
    "id": "IP52onPrQMVd"
   },
   "source": [
    "## Apply filters"
   ]
  },
  {
   "cell_type": "markdown",
   "metadata": {
    "colab_type": "text",
    "id": "-NqUp55EQMVe"
   },
   "source": [
    "To fetch news headlines, you can use the `query` function which takes filterWebContent and filter as arguments. The filterWebContent is used to access to the news/blogs/forums/reviews API of Webhose API.\n",
    "\n",
    "Filter that we are using to get the news articles are:\n",
    "\n",
    "1. language: The language of the news headline. We are using English as the language. Other supported languages are French, Spanish, Hindi, Chinese etc.\n",
    "\n",
    "2. site_type: site_type is the type of data. We are using 'news' as the site_type. Other site_types are Blogs and Discussions.\n",
    "\n",
    "3. site_category: site_category is the category of the news you want, such as financial, sports etc. We are using finanacial_news.\n",
    "\n",
    "4. site: This is the site name you wish to fetch the data from. We fetch the data from 'cnn.com'. You can fetch the data from any available site.\n",
    "\n",
    "5. thread.country: It is the country you wish to seek the news headline data from. In our case, we fetch the US data.\n",
    "\n",
    "6. ts: The \"ts\" (timestamp) parameter returns results that were crawled after the timestamp (Unix Timestamp in milliseconds). When not specified the default is the past 3 days. Free users can get the maximum data of the past 30 days.\n",
    "\n",
    "\n",
    "There are various filters that you can use. Read more about the [filters](https://docs.webhose.io/docs/filters-reference) supported by this API ."
   ]
  },
  {
   "cell_type": "code",
   "execution_count": 0,
   "metadata": {
    "colab": {},
    "colab_type": "code",
    "id": "JpI_xLA-QMVf"
   },
   "outputs": [],
   "source": [
    "webhoseio.config(token=\"783c73ba-1fd9-4be0-b46f-29069f83a97f\")\n",
    "filters = {\"q\": \"language:english site_type:news site:cnn.com thread.country:US\"}\n",
    "cursors = webhoseio.query(\"filterWebContent\", filters)"
   ]
  },
  {
   "cell_type": "code",
   "execution_count": 0,
   "metadata": {
    "colab": {},
    "colab_type": "code",
    "id": "9abFkq3VQMVi",
    "outputId": "fbb6efd4-9c42-4bda-f1bb-4178c7024f9a",
    "scrolled": false
   },
   "outputs": [
    {
     "data": {
      "text/plain": [
       "dict_keys(['posts', 'totalResults', 'moreResultsAvailable', 'next', 'requestsLeft', 'warnings'])"
      ]
     },
     "execution_count": 4,
     "metadata": {
      "tags": []
     },
     "output_type": "execute_result"
    }
   ],
   "source": [
    "cursors.keys()"
   ]
  },
  {
   "cell_type": "markdown",
   "metadata": {
    "colab_type": "text",
    "id": "5boxQ81aQMVm"
   },
   "source": [
    "These are the keys of dictionary cursor:\n",
    "\n",
    "1. 'posts': Returns the article\n",
    "2. 'totalResults': Returns the total number of articles for a particular filter\n",
    "3. 'moreResultsAvailable':  Returns the number of remaining articles \n",
    "4. 'next': Returns the information about filters, API key etc.\n",
    "5. 'RequestsLeft': Returns number of request left for the API key \n",
    "6. 'warnings': Returns the associated warnings\n"
   ]
  },
  {
   "cell_type": "markdown",
   "metadata": {
    "colab_type": "text",
    "id": "-W37OIhFQMVn"
   },
   "source": [
    "## Fetch the news headlines"
   ]
  },
  {
   "cell_type": "markdown",
   "metadata": {
    "colab_type": "text",
    "id": "91nA5CUmQMVo"
   },
   "source": [
    "To get the headlines, we use posts key of dictionary cursor."
   ]
  },
  {
   "cell_type": "code",
   "execution_count": 0,
   "metadata": {
    "colab": {},
    "colab_type": "code",
    "id": "EV4AN0UvQMVo",
    "outputId": "19b491cc-0423-43ea-f8a8-696d97756b0a"
   },
   "outputs": [
    {
     "data": {
      "text/plain": [
       "{'thread': {'uuid': '4b814f6029da5dfb9d3bfe3622219336b2214ff6',\n",
       "  'url': 'https://edition.cnn.com/2019/11/08/us/west-virginia-pedestrian-fatally-dragged/index.html',\n",
       "  'site_full': 'edition.cnn.com',\n",
       "  'site': 'cnn.com',\n",
       "  'site_section': 'http://rss.cnn.com/rss/cnn_latest.rss',\n",
       "  'site_categories': ['media'],\n",
       "  'section_title': 'CNN.com - RSS Channel',\n",
       "  'title': 'Woman died after being hit by a truck and then dragged for miles by another vehicle, police say',\n",
       "  'title_full': 'Woman died after being hit by a truck and then dragged for miles by another vehicle, police say - CNN',\n",
       "  'published': '2019-11-08T02:00:00.000+02:00',\n",
       "  'replies_count': 0,\n",
       "  'participants_count': 1,\n",
       "  'site_type': 'news',\n",
       "  'country': 'US',\n",
       "  'spam_score': 0.0,\n",
       "  'main_image': 'https://cdn.cnn.com/cnnnext/dam/assets/191108040820-west-virginia-woman-dragged-by-car-super-tease.jpg',\n",
       "  'performance_score': 0,\n",
       "  'domain_rank': None,\n",
       "  'social': {'facebook': {'likes': 34, 'comments': 14, 'shares': 39},\n",
       "   'gplus': {'shares': 0},\n",
       "   'pinterest': {'shares': 0},\n",
       "   'linkedin': {'shares': 0},\n",
       "   'stumbledupon': {'shares': 0},\n",
       "   'vk': {'shares': 0}}},\n",
       " 'uuid': '4b814f6029da5dfb9d3bfe3622219336b2214ff6',\n",
       " 'url': 'https://edition.cnn.com/2019/11/08/us/west-virginia-pedestrian-fatally-dragged/index.html',\n",
       " 'ord_in_thread': 0,\n",
       " 'author': 'Madeline Holcombe',\n",
       " 'published': '2019-11-08T02:00:00.000+02:00',\n",
       " 'title': 'Woman died after being hit by a truck and then dragged for miles by another vehicle, police say',\n",
       " 'text': '(CNN) A pedestrian was struck by a truck in Wheeling, West Virginia, on Thursday morning and then dragged by another vehicle for several miles, police said.\\nWheeling police were dispatched at 6:36 a.m. for a report of a pickup truck hitting a pedestrian in the Warwood neighborhood, according to a news release from the department. But when they arrived, they did not find a victim. A second 911 call reported that miles away, a second vehicle was seen dragging a body, the release said. \"Further investigation led police investigators to believe a woman was hit by a pickup truck in Warwood and then dragged by a second vehicle to the Washington Avenue area,\" the release said. The woman, identified as 54-year-old Michelle Lynn Czoka from Ohio, did not survive, police reported. A cause of death will be determined by the West Virginia Medical Examiner\\'s Office. Read More The department is still investigating the incident, but both drivers have been located, the release said.',\n",
       " 'highlightText': '',\n",
       " 'highlightTitle': '',\n",
       " 'language': 'english',\n",
       " 'external_links': ['https://wdtv.com/content/news/Wheeling-police-investigating-pedestrian-fatality-564607091.html',\n",
       "  'https://wheelingwv.gov/media/Police/NEWS%20RELEASES/2019%20Releases/11-7-19%20Pedestrian%20Fatality%20Investigation%20.pdf',\n",
       "  'https://www.wdtv.com/content/news/Wheeling-police-investigating-pedestrian-fatality-564607091.html',\n",
       "  'https://www.wheelingwv.gov/media/Police/NEWS%20RELEASES/2019%20Releases/11-7-19%20Pedestrian%20Fatality%20Investigation%20.pdf'],\n",
       " 'external_images': None,\n",
       " 'entities': {'persons': [{'name': 'michelle lynn czoka',\n",
       "    'sentiment': 'none'}],\n",
       "  'organizations': [{'name': 'cnn', 'sentiment': 'none'},\n",
       "   {'name': 'wdtv', 'sentiment': 'none'},\n",
       "   {'name': 'west virginia medical examiner', 'sentiment': 'none'}],\n",
       "  'locations': [{'name': 'west virginia', 'sentiment': 'none'},\n",
       "   {'name': 'warwood', 'sentiment': 'none'},\n",
       "   {'name': 'washington avenue', 'sentiment': 'none'},\n",
       "   {'name': 'ohio', 'sentiment': 'none'}]},\n",
       " 'rating': None,\n",
       " 'crawled': '2019-11-08T11:19:36.010+02:00'}"
      ]
     },
     "execution_count": 5,
     "metadata": {
      "tags": []
     },
     "output_type": "execute_result"
    }
   ],
   "source": [
    "# Fetching the first headline\n",
    "# Print the text of the first post\n",
    "cursors['posts'][1]"
   ]
  },
  {
   "cell_type": "code",
   "execution_count": 0,
   "metadata": {
    "colab": {},
    "colab_type": "code",
    "id": "npJh-YmGQMVs",
    "outputId": "6847de1d-e60d-45ab-a413-99a8366bf365"
   },
   "outputs": [
    {
     "data": {
      "text/plain": [
       "dict_keys(['thread', 'uuid', 'url', 'ord_in_thread', 'author', 'published', 'title', 'text', 'highlightText', 'highlightTitle', 'language', 'external_links', 'external_images', 'entities', 'rating', 'crawled'])"
      ]
     },
     "execution_count": 6,
     "metadata": {
      "tags": []
     },
     "output_type": "execute_result"
    }
   ],
   "source": [
    "cursors['posts'][0].keys()"
   ]
  },
  {
   "cell_type": "markdown",
   "metadata": {
    "colab_type": "text",
    "id": "2bEF8YHcQMV1"
   },
   "source": [
    "These are the keys you can use to get the specific information about the headline. You can use text to get the text , tilte to get the headline, published to fetch the date of the headline. "
   ]
  },
  {
   "cell_type": "code",
   "execution_count": 0,
   "metadata": {
    "colab": {},
    "colab_type": "code",
    "id": "uCMsQbgiQMV3",
    "outputId": "5feef3e1-cdf7-446d-daaa-a3484ff205aa"
   },
   "outputs": [
    {
     "data": {
      "text/plain": [
       "'(CNN) A series of \"unprecedented\" bushfires are raging through Australia\\'s southeastern state of New South Wales, with three people dead and more than 1,000 firefighters battling five emergency-level blazes and dangerous conditions.\\nA water bombing helicopter drops water on a bushfires in Harrington, New South Wales, Australia, 08 November 2019. At least seven other people remain missing in the blazes, New South Wales Rural Fire Services commissioner Shane Fitzsimmons said at a press conference Saturday. One of those killed was found inside a vehicle, while the other had died in hospital while being treated for severe burns. The body of a third person was found on Saturday afternoon in a burnt-out home. Fitzsimmons said preliminary reports suggested at least 100 homes had been destroyed in the blazes. Images posted to social media show ominous bright orange skies and thick smoke wafting across roads and towns throughout the region. Read More \"(With) dry windy conditions across an already very dry landscape, there is every likelihood that we\\'ll see fires increase in their alert level,\" Fitzsimmons said Saturday. As of Saturday morning, there were about 70 fires across the state, with 39 burning out of control. \"If you are near these fires, your life is at risk and you need to take action to protect your life,\" the NSW RFS said in a Twitter post. Some residents in Jacobs Spur near the town of Kempsey have been told it is too late to evacuate so they should take shelter immediately. At 5.30pm, there are 96 fires burning across the state, with 57 yet to be contained. 17 fires remain at Emergency Warning, mostly across the north coast and northern NSW. If you are near a fire at Emergency Warning level, take action now to protect your life. #nswrfs #nswfires pic.twitter.com/FWIQs2o0ES\\n— NSW RFS (@NSWRFS) November 8, 2019 The areas most affected by the fires include Tenterfield, Armidale, Clarence Valley, Port Macquarie, Nambucca and Kempsey, according to CNN affiliate Nine News . Alex Beckton, a resident of Old Bar on the NSW coast, told CNN he evacuated his family to the local surf club early Saturday, after watering down their home to try and keep it safe. \"Last night you could see the sky was a red and orange, amber color,\" he said. \"I think a lot of people are just because of having to monitor throughout the night.\" Beckton said some other members of the town had already left, after an emergency text came through from authorities calling for an evacuation. The fire service said in a Twitter post that a number of blazes \"are becoming more intense\" and \"more dangerous.\" It warned that some blazes were creating their own weather conditions and that fire clouds -- which can produce lightning without rain -- were developing. \"These (fire clouds) are extremely dangerous. Do not be caught in the open,\" the NSW RFS said. Just gone 3pm here in Port Macquarie. Locals say they\\'ve never seen it so bad so early and are fearing the bushfire summer ahead @9NewsAUS @Ninecomau pic.twitter.com/HuAc4ti4q2\\n— Marc Dodd (@marcdodd) November 8, 2019 The blazes are so fierce that major roads and highways have been closed and motorists in affected areas have been advised to delay non-essential travel, Nine News reported. At least five schools have closed due to the fires. Fitzsimmons said Friday that the fire service has received reports that several communities have been impacted by the blazes, including reports of injuries to residents and damage to buildings. The \"high concentration of fire and extreme volatility and extraordinary fire behavior\" was being driven by a \"drought stricken landscape\" and hot, dry, windy conditions,\" he said. Progression of major fires today across NSW #NSWfires pic.twitter.com/KAZ3pW9i8O\\n— Rob Rogers (@robrfs) November 8, 2019 Winds are set to be \"relentless\" throughout the evening, Fitzsimmons added. In a tweet Friday, Rob Rogers, Executive Director Operations at the NSW Rural Fire Service described the fires as \"unprecedented\" and asked residents to \"avoid fire affected areas.\" About 50 bushfires are also blazing in the neighboring state of Queensland. Residents in several areas there have been told to evacuate as emergency-level fires threaten homes and properties. Queensland and New South Wales are prone to wildfires in spring and early summer, and this year\\'s blazes follow Australia\\'s hottest summer on record, which brought worsening drought, bushfires and very low rainfall. '"
      ]
     },
     "execution_count": 7,
     "metadata": {
      "tags": []
     },
     "output_type": "execute_result"
    }
   ],
   "source": [
    "# Fetching the text of the article\n",
    "cursors['posts'][0]['text']"
   ]
  },
  {
   "cell_type": "markdown",
   "metadata": {
    "colab_type": "text",
    "id": "N_V-su-gQMV7"
   },
   "source": [
    "## Getting 100 news headlines\n",
    "\n",
    "We loop over the length of articles and get all the headlines up to 100. There are only 100 news headlines in one page of results. Therefore we can fetch only 100 headlines."
   ]
  },
  {
   "cell_type": "code",
   "execution_count": 0,
   "metadata": {
    "colab": {},
    "colab_type": "code",
    "id": "hq2nI_YCQMV8",
    "outputId": "9d0f6e11-acc6-45ee-a590-7683aea637ea"
   },
   "outputs": [
    {
     "data": {
      "text/html": [
       "<div>\n",
       "<style scoped>\n",
       "    .dataframe tbody tr th:only-of-type {\n",
       "        vertical-align: middle;\n",
       "    }\n",
       "\n",
       "    .dataframe tbody tr th {\n",
       "        vertical-align: top;\n",
       "    }\n",
       "\n",
       "    .dataframe thead th {\n",
       "        text-align: right;\n",
       "    }\n",
       "</style>\n",
       "<table border=\"1\" class=\"dataframe\">\n",
       "  <thead>\n",
       "    <tr style=\"text-align: right;\">\n",
       "      <th></th>\n",
       "      <th>Date</th>\n",
       "      <th>Title</th>\n",
       "      <th>News_Headlines</th>\n",
       "    </tr>\n",
       "  </thead>\n",
       "  <tbody>\n",
       "    <tr>\n",
       "      <th>0</th>\n",
       "      <td>2019-11-08T02:00:00.000+02:00</td>\n",
       "      <td>Australia bushfires: 'Unprecedented' number of...</td>\n",
       "      <td>(CNN) A series of \"unprecedented\" bushfires ar...</td>\n",
       "    </tr>\n",
       "    <tr>\n",
       "      <th>1</th>\n",
       "      <td>2019-11-08T02:00:00.000+02:00</td>\n",
       "      <td>Woman died after being hit by a truck and then...</td>\n",
       "      <td>(CNN) A pedestrian was struck by a truck in Wh...</td>\n",
       "    </tr>\n",
       "    <tr>\n",
       "      <th>2</th>\n",
       "      <td>2019-11-08T02:00:00.000+02:00</td>\n",
       "      <td>Tampons will no longer be taxed as luxury item...</td>\n",
       "      <td>Berlin (CNN) What do wine, cigarettes and tamp...</td>\n",
       "    </tr>\n",
       "    <tr>\n",
       "      <th>3</th>\n",
       "      <td>2019-11-08T02:00:00.000+02:00</td>\n",
       "      <td>Hong Kong protests could wipe $275 million off...</td>\n",
       "      <td>Hong Kong (CNN Business) Hong Kong's political...</td>\n",
       "    </tr>\n",
       "    <tr>\n",
       "      <th>4</th>\n",
       "      <td>2019-11-08T02:00:00.000+02:00</td>\n",
       "      <td>A man returning home from work found a woman's...</td>\n",
       "      <td>(CNN) A gated community in Simi Valley, Califo...</td>\n",
       "    </tr>\n",
       "  </tbody>\n",
       "</table>\n",
       "</div>"
      ],
      "text/plain": [
       "                            Date  \\\n",
       "0  2019-11-08T02:00:00.000+02:00   \n",
       "1  2019-11-08T02:00:00.000+02:00   \n",
       "2  2019-11-08T02:00:00.000+02:00   \n",
       "3  2019-11-08T02:00:00.000+02:00   \n",
       "4  2019-11-08T02:00:00.000+02:00   \n",
       "\n",
       "                                               Title  \\\n",
       "0  Australia bushfires: 'Unprecedented' number of...   \n",
       "1  Woman died after being hit by a truck and then...   \n",
       "2  Tampons will no longer be taxed as luxury item...   \n",
       "3  Hong Kong protests could wipe $275 million off...   \n",
       "4  A man returning home from work found a woman's...   \n",
       "\n",
       "                                      News_Headlines  \n",
       "0  (CNN) A series of \"unprecedented\" bushfires ar...  \n",
       "1  (CNN) A pedestrian was struck by a truck in Wh...  \n",
       "2  Berlin (CNN) What do wine, cigarettes and tamp...  \n",
       "3  Hong Kong (CNN Business) Hong Kong's political...  \n",
       "4  (CNN) A gated community in Simi Valley, Califo...  "
      ]
     },
     "execution_count": 8,
     "metadata": {
      "tags": []
     },
     "output_type": "execute_result"
    }
   ],
   "source": [
    "# Deifne a function store_articles with parameters df and cursor\n",
    "def store_articles(df, cursors):\n",
    "\n",
    "    # Run a for loop over the length of posts.\n",
    "    # Get the publishing date, title and text of the articles.\n",
    "    for i in range(len(cursors['posts'])):\n",
    "        date = cursors['posts'][i]['published']\n",
    "        title = cursors['posts'][i]['title']\n",
    "        posts = cursors['posts'][i]['text']\n",
    "\n",
    "        # Append the date, title and articles\n",
    "        df = df.append({'Date': date, 'Title': title,\n",
    "                        'News_Headlines': posts}, ignore_index=True)\n",
    "    return df\n",
    "\n",
    "\n",
    "# Create a dataframe with column name Date, Title and Articles\n",
    "df = pd.DataFrame(columns=['Date', 'Title', 'News_Headlines'])\n",
    "\n",
    "df = store_articles(df, cursors)\n",
    "df.head()"
   ]
  },
  {
   "cell_type": "code",
   "execution_count": 0,
   "metadata": {
    "colab": {},
    "colab_type": "code",
    "id": "nXne-KxMQMWB",
    "outputId": "cfd8ccb8-f7e2-480c-cca3-111b6c7e7570"
   },
   "outputs": [
    {
     "data": {
      "text/plain": [
       "100"
      ]
     },
     "execution_count": 9,
     "metadata": {
      "tags": []
     },
     "output_type": "execute_result"
    }
   ],
   "source": [
    "# Prints the length of the dataset\n",
    "len(df)"
   ]
  },
  {
   "cell_type": "markdown",
   "metadata": {
    "colab_type": "text",
    "id": "4lkCr1PdQMWE"
   },
   "source": [
    "## Fetch remaining news headlines\n",
    "\n",
    "To fetch the next page of results articles, we use `get_next` method of webhoseio object. We run a while loop until `totalResults` is equal to 0.\n",
    "\n",
    "<b>Note</b>: Fetching will take some time as we are fetching many news headlines. "
   ]
  },
  {
   "cell_type": "code",
   "execution_count": 0,
   "metadata": {
    "colab": {},
    "colab_type": "code",
    "id": "ZtTk49gLQMWF"
   },
   "outputs": [],
   "source": [
    "while True:\n",
    "    cursors = webhoseio.get_next()\n",
    "    df = store_articles(df, cursors)\n",
    "    if cursors['totalResults'] == 0:\n",
    "        break"
   ]
  },
  {
   "cell_type": "code",
   "execution_count": 0,
   "metadata": {
    "colab": {},
    "colab_type": "code",
    "id": "A8AZwKEcQMWI",
    "outputId": "df3ce976-0cff-4c67-aa6a-c7d2deb2d300"
   },
   "outputs": [
    {
     "data": {
      "text/plain": [
       "616"
      ]
     },
     "execution_count": 11,
     "metadata": {
      "tags": []
     },
     "output_type": "execute_result"
    }
   ],
   "source": [
    "# Returns the length of the dataset\n",
    "len(df)"
   ]
  },
  {
   "cell_type": "code",
   "execution_count": 0,
   "metadata": {
    "colab": {},
    "colab_type": "code",
    "id": "rC0rp3rOQMWL",
    "outputId": "b9f2ed5c-c91d-4d7b-a4e3-6db2f9906aad"
   },
   "outputs": [
    {
     "data": {
      "text/html": [
       "<div>\n",
       "<style scoped>\n",
       "    .dataframe tbody tr th:only-of-type {\n",
       "        vertical-align: middle;\n",
       "    }\n",
       "\n",
       "    .dataframe tbody tr th {\n",
       "        vertical-align: top;\n",
       "    }\n",
       "\n",
       "    .dataframe thead th {\n",
       "        text-align: right;\n",
       "    }\n",
       "</style>\n",
       "<table border=\"1\" class=\"dataframe\">\n",
       "  <thead>\n",
       "    <tr style=\"text-align: right;\">\n",
       "      <th></th>\n",
       "      <th>Date</th>\n",
       "      <th>Title</th>\n",
       "      <th>News_Headlines</th>\n",
       "    </tr>\n",
       "  </thead>\n",
       "  <tbody>\n",
       "    <tr>\n",
       "      <th>611</th>\n",
       "      <td>2019-11-11T02:00:00.000+02:00</td>\n",
       "      <td>Bill Moyers: 'Do facts matter anymore? I think...</td>\n",
       "      <td>New York (CNN Business) Bill Moyers, the legen...</td>\n",
       "    </tr>\n",
       "    <tr>\n",
       "      <th>612</th>\n",
       "      <td>2019-11-11T02:00:00.000+02:00</td>\n",
       "      <td>Cyclone Bulbul: Over 2 million people evacuate...</td>\n",
       "      <td>(CNN) At least 10 people have been killed and ...</td>\n",
       "    </tr>\n",
       "    <tr>\n",
       "      <th>613</th>\n",
       "      <td>2019-11-11T02:00:00.000+02:00</td>\n",
       "      <td>Michigan woman called a friend to say she was ...</td>\n",
       "      <td>(CNN) A Michigan woman called her friend to sa...</td>\n",
       "    </tr>\n",
       "    <tr>\n",
       "      <th>614</th>\n",
       "      <td>2019-11-11T07:44:00.000+02:00</td>\n",
       "      <td>People's Choice Awards 2019: Best fashion on t...</td>\n",
       "      <td>People's Choice Awards 2019: Best fashion on t...</td>\n",
       "    </tr>\n",
       "    <tr>\n",
       "      <th>615</th>\n",
       "      <td>2019-11-11T02:00:00.000+02:00</td>\n",
       "      <td>Hong Kong protests rage after police shooting:...</td>\n",
       "      <td>55 min ago Here's what you need to know Police...</td>\n",
       "    </tr>\n",
       "  </tbody>\n",
       "</table>\n",
       "</div>"
      ],
      "text/plain": [
       "                              Date  \\\n",
       "611  2019-11-11T02:00:00.000+02:00   \n",
       "612  2019-11-11T02:00:00.000+02:00   \n",
       "613  2019-11-11T02:00:00.000+02:00   \n",
       "614  2019-11-11T07:44:00.000+02:00   \n",
       "615  2019-11-11T02:00:00.000+02:00   \n",
       "\n",
       "                                                 Title  \\\n",
       "611  Bill Moyers: 'Do facts matter anymore? I think...   \n",
       "612  Cyclone Bulbul: Over 2 million people evacuate...   \n",
       "613  Michigan woman called a friend to say she was ...   \n",
       "614  People's Choice Awards 2019: Best fashion on t...   \n",
       "615  Hong Kong protests rage after police shooting:...   \n",
       "\n",
       "                                        News_Headlines  \n",
       "611  New York (CNN Business) Bill Moyers, the legen...  \n",
       "612  (CNN) At least 10 people have been killed and ...  \n",
       "613  (CNN) A Michigan woman called her friend to sa...  \n",
       "614  People's Choice Awards 2019: Best fashion on t...  \n",
       "615  55 min ago Here's what you need to know Police...  "
      ]
     },
     "execution_count": 12,
     "metadata": {
      "tags": []
     },
     "output_type": "execute_result"
    }
   ],
   "source": [
    "# Returns the bottom 5 rows of the dataset\n",
    "df.tail()"
   ]
  },
  {
   "cell_type": "markdown",
   "metadata": {
    "colab_type": "text",
    "id": "hPibMmWlQMWT"
   },
   "source": [
    "In the upcoming units, you will learn to practice these codes in the Interactive exercises.<br><br>"
   ]
  }
 ],
 "metadata": {
  "colab": {
   "collapsed_sections": [],
   "name": "Recent_News_Headlines1.ipynb",
   "provenance": []
  },
  "kernelspec": {
   "display_name": "Python 3",
   "language": "python",
   "name": "python3"
  },
  "language_info": {
   "codemirror_mode": {
    "name": "ipython",
    "version": 3
   },
   "file_extension": ".py",
   "mimetype": "text/x-python",
   "name": "python",
   "nbconvert_exporter": "python",
   "pygments_lexer": "ipython3",
   "version": "3.7.4"
  }
 },
 "nbformat": 4,
 "nbformat_minor": 1
}
